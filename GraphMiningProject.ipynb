{
 "cells": [
  {
   "cell_type": "code",
   "execution_count": 5,
   "metadata": {},
   "outputs": [],
   "source": [
    "import re\n",
    "from collections import defaultdict\n",
    "import matplotlib.pyplot as plt\n",
    "import os\n",
    "import numpy as np\n",
    "import powerlaw\n",
    "import math"
   ]
  },
  {
   "cell_type": "markdown",
   "metadata": {},
   "source": [
    "## read dataset function"
   ]
  },
  {
   "cell_type": "code",
   "execution_count": 75,
   "metadata": {},
   "outputs": [],
   "source": [
    "def load_flle(filename):\n",
    "    x = []\n",
    "    with open(filename) as f:\n",
    "        line = f.readline()\n",
    "        line = line.strip('\\n')\n",
    "    return line\n",
    "\n",
    "def dirlist(path, files):\n",
    "    filelist = os.listdir(path)\n",
    "\n",
    "    for filename in filelist:\n",
    "        filepath = os.path.join(path, filename)\n",
    "        if os.path.isdir(filepath):\n",
    "            dirlist(filepath, files)\n",
    "        else:\n",
    "            files.append(filepath)\n",
    "    return files\n",
    "\n",
    "def load_train_files(path):\n",
    "    x = []\n",
    "    y = []\n",
    "    list = os.listdir(path)\n",
    "    for i in range(0, len(list)):\n",
    "        path2 = os.path.join(path, list[i])\n",
    "        if os.path.isfile(path2):\n",
    "            x.append(load_flle(path2))\n",
    "            y.append(0)\n",
    "    return x, y\n",
    "\n",
    "\n",
    "def load_attack_files(path, x, y, attack_type):\n",
    "    # return x:length of each attack file\n",
    "    total = 0\n",
    "    for i in range(1,11): \n",
    "        # each attack has 10 folder \n",
    "        files = dirlist(path + attack_type +\"_\" + str(i), [])\n",
    "        total = total + len(files)\n",
    "        for file in files:\n",
    "            x.append(load_flle(file))\n",
    "            y.append(1)\n",
    "    print(attack_type + \" data: \" + str(total))\n",
    "    return x, y\n",
    "\n",
    "def get_increasing_array(length):\n",
    "    arr = np.zeros(length)\n",
    "    for i in range(length):\n",
    "        arr[i] = i\n",
    "    return arr\n",
    "\n",
    "def calculate_attack_syscall_avg(atk_type):\n",
    "    x_orig = []\n",
    "    x_extend = []\n",
    "    y_orig = []\n",
    "    y_extend = []\n",
    "\n",
    "    x_orig, y_orig = load_attack_files(\"ADFA-LD/Attack_Data_Master/\", x_orig, y_orig, atk_type)\n",
    "    fileIndex = 0 # attack count\n",
    "    totalLen = 0\n",
    "    x_avglen = 0\n",
    "    for d in x_orig:\n",
    "        fileIndex+=1\n",
    "        # print(fileIndex, \": \", d, \"\\nThe syscall length of this attack file: \", len(d.split(' '))-1,  \"\\n\")\n",
    "        totalLen += len(d.split(' ')) - 1\n",
    "\n",
    "    x_avglen = totalLen / len(x_orig)\n",
    "    print(\"Avg\", atk_type, \"system call length:\", x_avglen, \"\\n\")\n",
    "    return x_avglen"
   ]
  },
  {
   "cell_type": "markdown",
   "metadata": {},
   "source": [
    "## read data"
   ]
  },
  {
   "cell_type": "code",
   "execution_count": 11,
   "metadata": {},
   "outputs": [
    {
     "name": "stdout",
     "output_type": "stream",
     "text": [
      "Adduser data: 91\n",
      "Hydra_FTP data: 162\n",
      "Hydra_SSH data: 176\n",
      "Java_Meterpreter data: 124\n",
      "Meterpreter data: 75\n",
      "Web_Shell data: 118\n"
     ]
    }
   ],
   "source": [
    "attack_type = ['Adduser', 'Hydra_FTP', 'Hydra_SSH', 'Java_Meterpreter', 'Meterpreter', 'Web_Shell']\n",
    "xa = []\n",
    "ya = []\n",
    "for attack in attack_type:\n",
    "    xa, ya = load_attack_files(\"ADFA-LD/Attack_Data_Master/\", xa, ya, attack) # 746\n",
    "xt, yt = load_train_files(\"ADFA-LD/Training_Data_Master/\")  # 833\n",
    "xv, yv = load_train_files(\"ADFA-LD/Validation_Data_Master/\")  # 4372\n",
    "\n",
    "# training data\n",
    "x_trn = xt + xa\n",
    "y_trn = yt + ya\n",
    "\n",
    "# validation data\n",
    "x_val = xv \n",
    "y_val = yv \n"
   ]
  },
  {
   "cell_type": "markdown",
   "metadata": {},
   "source": [
    "## Parameter"
   ]
  },
  {
   "cell_type": "code",
   "execution_count": 14,
   "metadata": {},
   "outputs": [],
   "source": [
    "n = 2\n",
    "left = 0\n",
    "right = 10"
   ]
  },
  {
   "cell_type": "markdown",
   "metadata": {},
   "source": [
    "### Normal"
   ]
  },
  {
   "cell_type": "code",
   "execution_count": 21,
   "metadata": {},
   "outputs": [
    {
     "data": {
      "image/png": "[encoded data removed]",
      "text/plain": [
       "<Figure size 432x288 with 1 Axes>"
      ]
     },
     "metadata": {
      "needs_background": "light"
     },
     "output_type": "display_data"
    },
    {
     "name": "stdout",
     "output_type": "stream",
     "text": [
      "('3 3', '4 4', '195 195', '240 240', '197 192', '221 221', '3 6', '180 180', '6 6', '195 5')\n",
      "(31531, 22334, 9163, 8999, 6716, 6325, 5928, 5569, 5468, 5145)\n"
     ]
    }
   ],
   "source": [
    "dic_normal = defaultdict(lambda: 0)\n",
    "for d in xt:\n",
    "    data = d.strip().split(' ')\n",
    "    for i in range(len(data) - n + 1):\n",
    "        index = ' '.join(data[i:i+n])\n",
    "        dic_normal[index] = dic_normal[index] + 1\n",
    "\n",
    "lists = sorted(dic_normal.items(), key=lambda kv: kv[1], reverse=True)\n",
    "px, py = zip(*lists[left:right]) # unpack a list of pairs into two tuples\n",
    "\n",
    "plt.title(\"Training Data\")\n",
    "plt.plot(px, py)\n",
    "plt.show()\n",
    "print(px)\n",
    "print(py)"
   ]
  },
  {
   "cell_type": "markdown",
   "metadata": {},
   "source": [
    "### adduser"
   ]
  },
  {
   "cell_type": "code",
   "execution_count": 76,
   "metadata": {},
   "outputs": [
    {
     "name": "stdout",
     "output_type": "stream",
     "text": [
      "Adduser data: 91\n",
      "Avg Adduser system call length: 460.8021978021978 \n",
      "\n",
      "Hydra_FTP data: 162\n",
      "Avg Hydra_FTP system call length: 313.1666666666667 \n",
      "\n",
      "Hydra_SSH data: 176\n",
      "Avg Hydra_SSH system call length: 411.1306818181818 \n",
      "\n",
      "Java_Meterpreter data: 124\n",
      "Avg Java_Meterpreter system call length: 479.86290322580646 \n",
      "\n",
      "Meterpreter data: 75\n",
      "Avg Meterpreter system call length: 465.82666666666665 \n",
      "\n"
     ]
    },
    {
     "data": {
      "text/plain": [
       "465.82666666666665"
      ]
     },
     "execution_count": 76,
     "metadata": {},
     "output_type": "execute_result"
    }
   ],
   "source": [
    "\"\"\"\n",
    "x_addusr_orig = []\n",
    "x_addusr_extend = []\n",
    "y_addusr_orig = []\n",
    "y_addusr_extend = []\n",
    "\n",
    "x_addusr_orig, y_addusr_orig = load_attack_files(\"ADFA-LD/Attack_Data_Master/\", x_addusr_orig, y_addusr_orig, 'Adduser')\n",
    "fileIndex = 0 # adduser attack count\n",
    "totalLen = 0\n",
    "x_addusr_avglen = 0\n",
    "for d in x_addusr_orig:\n",
    "    fileIndex+=1\n",
    "    print(fileIndex, \": \", d, \"\\nThe syscall length of this attack file: \", len(d.split(' '))-1,  \"\\n\")\n",
    "    totalLen += len(d.split(' ')) - 1\n",
    "    \n",
    "x_addusr_avglen = totalLen / len(x_addusr_orig)\n",
    "print(\"Avg adduser system call length:\", x_addusr_avglen)\n",
    "\"\"\"\n",
    "\n",
    "calculate_attack_syscall_avg(\"Adduser\")\n",
    "calculate_attack_syscall_avg(\"Hydra_FTP\")\n",
    "calculate_attack_syscall_avg(\"Hydra_SSH\")\n",
    "calculate_attack_syscall_avg(\"Java_Meterpreter\")\n",
    "calculate_attack_syscall_avg(\"Meterpreter\")"
   ]
  },
  {
   "cell_type": "markdown",
   "metadata": {},
   "source": [
    "### adduser 2-gram"
   ]
  },
  {
   "cell_type": "code",
   "execution_count": 29,
   "metadata": {},
   "outputs": [
    {
     "name": "stdout",
     "output_type": "stream",
     "text": [
      "Adduser data: 91\n",
      "defaultdict(<function <lambda> at 0x0000020FED163598>, {'265 168': 2597, '168 168': 5964, '168 265': 2650, '168 102': 198, '102 168': 202, '265 265': 1541, '265 102': 95, '102 265': 92, '3 104': 105, '104 91': 2, '91 265': 5, '265 142': 240, '142 142': 501, '142 104': 83, '104 3': 110, '3 175': 109, '175 3': 73, '3 142': 275, '142 146': 175, '146 142': 171, '142 175': 150, '175 142': 165, '142 265': 264, '142 119': 68, '119 119': 7, '119 3': 23, '175 175': 159, '265 175': 52, '175 119': 28, '119 142': 61, '104 142': 101, '175 104': 43, '104 265': 54, '265 146': 196, '146 3': 198, '104 104': 22, '91 146': 4, '146 175': 39, '3 146': 166, '146 146': 114, '3 91': 23, '91 175': 10, '3 3': 1113, '265 3': 1067, '146 104': 31, '3 265': 1043, '104 119': 3, '142 3': 279, '265 104': 65, '175 91': 12, '91 142': 5, '146 265': 196, '104 146': 28, '119 146': 15, '175 265': 41, '265 119': 28, '119 104': 7, '3 119': 13, '3 192': 6, '192 142': 1, '119 175': 10, '119 265': 35, '104 175': 36, '146 119': 11, '142 192': 2, '192 3': 16, '175 146': 41, '146 192': 2, '192 91': 4, '265 43': 152, '43 3': 103, '43 168': 224, '168 3': 1694, '3 43': 92, '3 168': 1739, '168 43': 183, '43 265': 104, '168 195': 21, '195 340': 13, '340 168': 23, '43 43': 63, '3 195': 8, '195 43': 3, '168 340': 25, '195 168': 12, '43 340': 4, '340 265': 11, '340 3': 12, '3 340': 7, '340 43': 6, '309 54': 616, '54 309': 678, '309 309': 155, '54 54': 2079, '54 3': 126, '3 54': 185, '309 3': 87, '3 309': 24, '54 240': 12, '240 54': 14, '54 265': 8, '265 240': 174, '240 240': 628, '240 309': 2, '3 78': 45, '78 3': 28, '168 140': 2, '140 168': 1, '168 78': 271, '168 146': 266, '146 168': 252, '78 265': 85, '265 78': 58, '168 19': 6, '19 265': 8, '168 4': 101, '4 3': 37, '265 19': 7, '19 168': 7, '265 162': 2, '162 168': 3, '78 4': 81, '4 19': 16, '19 19': 30, '19 4': 13, '19 3': 9, '3 19': 7, '19 146': 1, '78 19': 5, '19 78': 7, '3 162': 4, '168 162': 3, '78 146': 3, '168 54': 9, '54 146': 3, '114 162': 688, '162 114': 683, '114 114': 165, '162 162': 2549, '265 54': 10, '54 142': 7, '146 54': 1, '146 91': 3, '91 3': 24, '175 174': 7, '174 174': 243, '174 57': 7, '57 175': 7, '175 54': 9, '54 175': 7, '175 6': 7, '6 3': 23, '3 6': 30, '6 174': 7, '174 11': 7, '11 45': 7, '45 33': 7, '33 192': 7, '192 33': 7, '33 5': 57, '5 197': 28, '197 192': 74, '192 6': 62, '6 33': 49, '5 3': 105, '3 197': 59, '192 192': 85, '6 192': 9, '192 243': 7, '243 125': 7, '125 125': 56, '125 91': 7, '91 258': 7, '258 311': 7, '311 240': 7, '240 174': 7, '174 175': 7, '175 191': 7, '191 122': 7, '122 268': 7, '268 45': 7, '45 45': 7, '45 5': 7, '6 91': 15, '91 5': 32, '265 195': 5, '195 3': 7, '240 3': 20, '54 5': 2, '5 54': 2, '54 4': 1, '4 240': 83, '265 5': 3, '5 78': 4, '3 4': 26, '4 265': 137, '146 4': 1, '4 168': 85, '162 3': 6, '162 4': 1, '78 168': 284, '265 4': 132, '6 54': 4, '54 174': 4, '174 5': 3, '5 221': 3, '221 220': 3, '220 196': 3, '196 220': 3, '265 340': 3, '168 5': 3, '4 4': 187, '4 146': 1, '265 192': 2, '192 146': 1, '265 91': 1, '142 54': 4, '91 192': 4, '192 175': 5, '54 104': 1, '43 195': 4, '3 122': 1, '122 168': 2, '54 168': 8, '146 19': 1, '78 54': 13, '192 104': 1, '142 91': 2, '175 192': 3, '220 6': 2, '6 197': 5, '192 4': 2, '4 174': 2, '195 265': 4, '4 54': 3, '54 91': 1, '140 3': 4, '91 78': 1, '168 197': 1, '197 168': 1, '162 78': 1, '3 5': 56, '5 5': 99, '5 6': 27, '197 3': 8, '6 6': 12, '6 5': 21, '197 5': 10, '192 5': 9, '5 192': 9, '5 91': 25, '91 91': 14, '3 141': 2, '141 3': 2, '5 141': 1, '141 5': 1, '265 6': 5, '6 168': 19, '168 6': 11, '141 91': 1, '192 162': 1, '162 6': 2, '78 162': 1, '197 6': 1, '192 197': 1, '197 91': 3, '6 141': 1, '141 197': 1, '91 197': 2, '91 6': 2, '162 91': 1, '5 162': 3, '162 5': 2, '91 141': 1, '146 43': 3, '3 140': 3, '146 78': 1, '256 102': 173, '102 256': 173, '256 3': 44, '3 256': 46, '256 256': 226, '256 4': 47, '4 256': 42, '4 102': 88, '102 102': 191, '265 256': 53, '256 265': 45, '102 3': 34, '3 102': 34, '102 240': 26, '240 256': 33, '256 240': 39, '102 4': 83, '240 102': 41, '102 78': 134, '4 78': 87, '4 6': 7, '102 6': 6, '6 78': 12, '78 78': 324, '78 6': 15, '78 102': 120, '168 240': 20, '240 265': 169, '240 168': 10, '78 240': 47, '240 78': 46, '3 240': 24, '240 4': 84, '6 102': 4, '54 102': 5, '265 221': 45, '221 102': 3, '4 221': 24, '102 54': 8, '54 78': 16, '6 4': 5, '168 221': 1, '221 168': 1, '78 221': 1, '54 6': 1, '6 240': 3, '219 219': 89, '219 240': 12, '240 91': 1, '91 219': 2, '240 219': 9, '219 91': 1, '265 140': 8, '140 4': 11, '221 140': 8, '221 265': 45, '221 4': 25, '240 221': 14, '221 240': 12, '4 140': 4, '265 197': 1, '197 4': 1, '140 265': 6, '140 221': 4, '240 140': 2, '221 221': 33, '3 221': 7, '140 240': 1, '221 3': 3, '240 118': 2, '118 4': 2, '265 194': 1, '194 221': 1, '265 118': 3, '118 240': 1, '118 3': 1, '19 240': 9, '5 240': 3, '240 19': 10, '78 195': 1, '195 78': 1, '4 39': 1, '39 240': 4, '240 33': 10, '33 240': 5, '265 324': 1, '324 240': 5, '33 324': 1, '324 39': 1, '240 6': 1, '240 39': 4, '33 39': 1, '39 324': 1, '240 324': 2, '39 265': 1, '4 195': 1, '195 240': 1, '265 219': 1, '33 78': 2, '240 5': 6, '5 324': 1, '324 4': 1, '265 33': 3, '33 4': 2, '78 324': 1, '33 265': 1, '39 19': 1, '265 39': 1, '39 78': 1, '78 196': 1, '196 38': 1, '38 265': 1, '4 219': 1, '240 195': 1, '5 265': 3, '4 5': 1, '240 38': 1, '38 19': 1, '240 192': 1, '192 240': 1, '168 13': 28, '13 168': 28, '146 13': 20, '13 265': 19, '265 13': 20, '13 146': 31, '13 3': 8, '3 13': 18, '13 13': 6, '265 292': 1, '292 265': 1, '3 292': 2, '292 3': 1, '5 168': 1, '292 168': 1, '146 122': 1, '6 265': 1, '6 162': 1, '78 5': 1, '91 162': 1, '104 192': 1, '340 340': 3})\n"
     ]
    },
    {
     "data": {
      "image/png": "[encoded data removed]",
      "text/plain": [
       "<Figure size 432x288 with 1 Axes>"
      ]
     },
     "metadata": {
      "needs_background": "light"
     },
     "output_type": "display_data"
    },
    {
     "name": "stdout",
     "output_type": "stream",
     "text": [
      "('168 168', '168 265', '265 168', '162 162', '54 54', '3 168', '168 3', '265 265', '3 3', '265 3')\n",
      "(5964, 2650, 2597, 2549, 2079, 1739, 1694, 1541, 1113, 1067)\n"
     ]
    }
   ],
   "source": [
    "dic_addusr = defaultdict(lambda: 0)\n",
    "x_addusr = []\n",
    "y_addusr = []\n",
    "x_addusr, y_addusr = load_attack_files(\"ADFA-LD/Attack_Data_Master/\", x_addusr, y_addusr, 'Adduser')\n",
    "for d in x_addusr:\n",
    "    data = d.strip().split(' ')\n",
    "    for i in range(len(data) - n + 1):\n",
    "        index = ' '.join(data[i:i+n])\n",
    "        #print(index)\n",
    "        dic_addusr[index] = dic_addusr[index] + 1\n",
    "print(dic_addusr)\n",
    "\n",
    "lists = sorted(dic_addusr.items(), key=lambda kv: kv[1], reverse=True)\n",
    "px, py = zip(*lists[left:right]) # unpack a list of pairs into two tuples\n",
    "\n",
    "plt.title(\"Adduser\")\n",
    "plt.plot(px, py)\n",
    "plt.show()\n",
    "print(px)\n",
    "print(py)"
   ]
  },
  {
   "cell_type": "markdown",
   "metadata": {},
   "source": [
    "### Hydra FTP"
   ]
  },
  {
   "cell_type": "code",
   "execution_count": 32,
   "metadata": {},
   "outputs": [
    {
     "name": "stdout",
     "output_type": "stream",
     "text": [
      "Hydra_FTP data: 162\n"
     ]
    },
    {
     "data": {
      "image/png": "[encoded data removed]",
      "text/plain": [
       "<Figure size 432x288 with 1 Axes>"
      ]
     },
     "metadata": {
      "needs_background": "light"
     },
     "output_type": "display_data"
    },
    {
     "name": "stdout",
     "output_type": "stream",
     "text": [
      "('168 168 168', '168 168 265', '168 265 168', '265 168 168', '78 78 142', '78 142 78', '3 168 168', '265 168 265', '142 78 102', '168 3 168')\n",
      "(2992, 1314, 1269, 1228, 844, 837, 696, 680, 660, 659)\n"
     ]
    }
   ],
   "source": [
    "dic_ftp = defaultdict(lambda: 0)\n",
    "x_ftp = []\n",
    "y_ftp = []\n",
    "x_ftp, y_ftp = load_attack_files(\"ADFA-LD/Attack_Data_Master/\", x_ftp, y_ftp, 'Hydra_FTP')\n",
    "for d in x_ftp:\n",
    "    data = d.strip().split(' ')\n",
    "    for i in range(len(data) - n + 1):\n",
    "        index = ' '.join(data[i:i+n])\n",
    "        dic_ftp[index] = dic_ftp[index] + 1\n",
    "\n",
    "lists = sorted(dic_ftp.items(), key=lambda kv: kv[1], reverse=True)\n",
    "px, py = zip(*lists[left:right]) # unpack a list of pairs into two tuples\n",
    "\n",
    "plt.title(\"Hydra FTP\")\n",
    "plt.plot(px, py)\n",
    "plt.show()\n",
    "print(px)\n",
    "print(py)"
   ]
  },
  {
   "cell_type": "markdown",
   "metadata": {},
   "source": [
    "### Hydra SSH"
   ]
  },
  {
   "cell_type": "code",
   "execution_count": 33,
   "metadata": {},
   "outputs": [
    {
     "name": "stdout",
     "output_type": "stream",
     "text": [
      "Hydra_SSH data: 176\n"
     ]
    },
    {
     "data": {
      "image/png": "[encoded data removed]",
      "text/plain": [
       "<Figure size 432x288 with 1 Axes>"
      ]
     },
     "metadata": {
      "needs_background": "light"
     },
     "output_type": "display_data"
    },
    {
     "name": "stdout",
     "output_type": "stream",
     "text": [
      "('265 168 265', '168 265 3', '265 3 265', '168 168 265', '265 265 265', '3 265 168', '168 168 168', '265 168 168', '265 265 168', '168 265 265')\n",
      "(2969, 2503, 2466, 2211, 2090, 1985, 1796, 1791, 1713, 1598)\n"
     ]
    }
   ],
   "source": [
    "dic_ssh = defaultdict(lambda: 0)\n",
    "x_ssh = []\n",
    "y_ssh = []\n",
    "x_ssh, y_ssh = load_attack_files(\"ADFA-LD/Attack_Data_Master/\", x_ssh, y_ssh, 'Hydra_SSH')\n",
    "for d in x_ssh:\n",
    "    data = d.strip().split(' ')\n",
    "    for i in range(len(data) - n + 1):\n",
    "        index = ' '.join(data[i:i+n])\n",
    "        dic_ssh[index] = dic_ssh[index] + 1\n",
    "\n",
    "lists = sorted(dic_ssh.items(), key=lambda kv: kv[1], reverse=True)\n",
    "px, py = zip(*lists[left:right]) # unpack a list of pairs into two tuples\n",
    "\n",
    "plt.title(\"Hydra SSH\")\n",
    "plt.plot(px, py)\n",
    "plt.show()\n",
    "print(px)\n",
    "print(py)"
   ]
  },
  {
   "cell_type": "markdown",
   "metadata": {},
   "source": [
    "### Java Meterpreter"
   ]
  },
  {
   "cell_type": "code",
   "execution_count": 34,
   "metadata": {},
   "outputs": [
    {
     "name": "stdout",
     "output_type": "stream",
     "text": [
      "Java_Meterpreter data: 124\n"
     ]
    },
    {
     "data": {
      "image/png": "[encoded data removed]",
      "text/plain": [
       "<Figure size 432x288 with 1 Axes>"
      ]
     },
     "metadata": {
      "needs_background": "light"
     },
     "output_type": "display_data"
    },
    {
     "name": "stdout",
     "output_type": "stream",
     "text": [
      "('78 78 78', '240 240 240', '168 168 168', '162 162 162', '168 265 168', '168 168 265', '265 168 168', '265 265 265', '265 168 265', '168 265 265')\n",
      "(5497, 2288, 2095, 1846, 1499, 1439, 1391, 1271, 1227, 1148)\n"
     ]
    }
   ],
   "source": [
    "dic_java = defaultdict(lambda: 0)\n",
    "x_java = []\n",
    "y_java = []\n",
    "x_java, y_java = load_attack_files(\"ADFA-LD/Attack_Data_Master/\", x_java, y_java, 'Java_Meterpreter')\n",
    "for d in x_java:\n",
    "    data = d.strip().split(' ')\n",
    "    for i in range(len(data) - n + 1):\n",
    "        index = ' '.join(data[i:i + n])\n",
    "        dic_java[index] = dic_java[index] + 1\n",
    "\n",
    "lists = sorted(dic_java.items(), key=lambda kv: kv[1], reverse=True)\n",
    "px, py = zip(*lists[left:right]) # unpack a list of pairs into two tuples\n",
    "\n",
    "plt.title(\"Java Meterpreter\")\n",
    "plt.plot(px, py)\n",
    "plt.show()\n",
    "print(px)\n",
    "print(py)"
   ]
  },
  {
   "cell_type": "markdown",
   "metadata": {},
   "source": [
    "### Meterpreter"
   ]
  },
  {
   "cell_type": "code",
   "execution_count": 35,
   "metadata": {},
   "outputs": [
    {
     "name": "stdout",
     "output_type": "stream",
     "text": [
      "Meterpreter data: 75\n"
     ]
    },
    {
     "data": {
      "image/png": "[encoded data removed]",
      "text/plain": [
       "<Figure size 432x288 with 1 Axes>"
      ]
     },
     "metadata": {
      "needs_background": "light"
     },
     "output_type": "display_data"
    },
    {
     "name": "stdout",
     "output_type": "stream",
     "text": [
      "('168 168 168', '168 265 168', '265 168 168', '168 168 265', '265 168 265', '265 265 265', '265 265 168', '168 265 265', '3 3 3', '168 3 168')\n",
      "(1833, 1390, 1329, 1316, 1262, 1223, 1199, 1186, 865, 747)\n"
     ]
    }
   ],
   "source": [
    "dic_met = defaultdict(lambda: 0)\n",
    "x_met = []\n",
    "y_met = []\n",
    "x_met, y_met = load_attack_files(\"ADFA-LD/Attack_Data_Master/\", x_met, y_met, 'Meterpreter')\n",
    "for d in x_met:\n",
    "    data = d.strip().split(' ')\n",
    "    for i in range(len(data) - n + 1):\n",
    "        index = ' '.join(data[i:i+n])\n",
    "        dic_met[index] = dic_met[index] + 1\n",
    "\n",
    "lists = sorted(dic_met.items(), key=lambda kv: kv[1], reverse=True)\n",
    "px, py = zip(*lists[left:right]) # unpack a list of pairs into two tuples\n",
    "\n",
    "plt.title(\"Meterpreter\")\n",
    "plt.plot(px, py)\n",
    "plt.show()\n",
    "print(px)\n",
    "print(py)\n"
   ]
  },
  {
   "cell_type": "markdown",
   "metadata": {},
   "source": [
    "### Web Shell"
   ]
  },
  {
   "cell_type": "code",
   "execution_count": 36,
   "metadata": {
    "scrolled": true
   },
   "outputs": [
    {
     "name": "stdout",
     "output_type": "stream",
     "text": [
      "Web_Shell data: 118\n"
     ]
    },
    {
     "data": {
      "image/png": "[encoded data removed]",
      "text/plain": [
       "<Figure size 432x288 with 1 Axes>"
      ]
     },
     "metadata": {
      "needs_background": "light"
     },
     "output_type": "display_data"
    },
    {
     "name": "stdout",
     "output_type": "stream",
     "text": [
      "('168 168 168', '168 265 168', '168 168 265', '265 168 168', '265 168 265', '168 3 168', '3 168 168', '168 168 3', '168 265 265', '265 265 168')\n",
      "(6782, 2674, 2592, 2521, 1441, 1433, 1388, 1325, 1282, 1278)\n"
     ]
    }
   ],
   "source": [
    "dic_web = defaultdict(lambda: 0)\n",
    "x_web = []\n",
    "y_web = []\n",
    "x_web, y_web = load_attack_files(\"ADFA-LD/Attack_Data_Master/\", x_web, y_web, 'Web_Shell')\n",
    "for d in x_web:\n",
    "    data = d.strip().split(' ')\n",
    "    for i in range(len(data) - n + 1):\n",
    "        index = ' '.join(data[i:i+n])\n",
    "        dic_web[index] = dic_web[index] + 1\n",
    "\n",
    "lists = sorted(dic_web.items(), key=lambda kv: kv[1], reverse=True)\n",
    "px, py = zip(*lists[left:right]) # unpack a list of pairs into two tuples\n",
    "\n",
    "plt.title(\"Web Shell\")\n",
    "plt.plot(px, py)\n",
    "plt.show()\n",
    "print(px)\n",
    "print(py)"
   ]
  },
  {
   "cell_type": "markdown",
   "metadata": {},
   "source": [
    "### 攻擊序列中 n-gram之累積數分布與power law"
   ]
  },
  {
   "cell_type": "markdown",
   "metadata": {},
   "source": [
    "### n = 1 的情況 "
   ]
  },
  {
   "cell_type": "code",
   "execution_count": 130,
   "metadata": {},
   "outputs": [
    {
     "name": "stdout",
     "output_type": "stream",
     "text": [
      "90\n"
     ]
    },
    {
     "data": {
      "image/png": "[encoded data removed]",
      "text/plain": [
       "<Figure size 432x288 with 1 Axes>"
      ]
     },
     "metadata": {
      "needs_background": "light"
     },
     "output_type": "display_data"
    },
    {
     "name": "stdout",
     "output_type": "stream",
     "text": [
      "(75175, 61396, 45819, 21125, 11782, 11316, 7781, 6992, 6751, 6446, 6071, 5552, 5506, 4725, 4191, 3579, 3322, 2695, 2582, 2369, 2046, 1974, 1971, 1952, 1697, 1694, 1452, 1133, 795, 756, 750, 724, 630, 574, 519, 430, 347, 294, 254, 225, 162, 161, 157, 125, 112, 112, 103, 103, 88, 71, 68, 68, 67, 63, 62, 58, 55, 49, 47, 33, 27, 26, 18, 18, 18, 16, 16, 13, 13, 10, 7, 6, 6, 5, 5, 4, 3, 3, 3, 2, 2, 2, 2, 1, 1, 1, 1, 1, 1, 1)\n",
      "alpha: 2.021106382776984\n",
      "Xmin: 4191.0\n"
     ]
    },
    {
     "name": "stderr",
     "output_type": "stream",
     "text": [
      "Calculating best minimal value for power law fit\n",
      "Font 'default' does not have a glyph for '-' [U+2212], substituting with a dummy symbol.\n",
      "Font 'default' does not have a glyph for '-' [U+2212], substituting with a dummy symbol.\n",
      "Font 'default' does not have a glyph for '-' [U+2212], substituting with a dummy symbol.\n",
      "Font 'default' does not have a glyph for '-' [U+2212], substituting with a dummy symbol.\n",
      "Font 'default' does not have a glyph for '-' [U+2212], substituting with a dummy symbol.\n",
      "Font 'default' does not have a glyph for '-' [U+2212], substituting with a dummy symbol.\n",
      "Font 'default' does not have a glyph for '-' [U+2212], substituting with a dummy symbol.\n",
      "Font 'default' does not have a glyph for '-' [U+2212], substituting with a dummy symbol.\n",
      "Font 'default' does not have a glyph for '-' [U+2212], substituting with a dummy symbol.\n",
      "Font 'default' does not have a glyph for '-' [U+2212], substituting with a dummy symbol.\n",
      "Font 'default' does not have a glyph for '-' [U+2212], substituting with a dummy symbol.\n",
      "Font 'default' does not have a glyph for '-' [U+2212], substituting with a dummy symbol.\n"
     ]
    },
    {
     "data": {
      "image/png": "[encoded data removed]",
      "text/plain": [
       "<Figure size 432x288 with 1 Axes>"
      ]
     },
     "metadata": {
      "needs_background": "light"
     },
     "output_type": "display_data"
    }
   ],
   "source": [
    "n = 1\n",
    "dic_xa = defaultdict(lambda: 0)\n",
    "for d in xa:\n",
    "    data = d.strip().split(' ')\n",
    "    for i in range(len(data) - n + 1):\n",
    "        index = ' '.join(data[i:i+n])\n",
    "        dic_xa[index] = dic_xa[index] + 1\n",
    "\n",
    "lists = sorted(dic_xa.items(), key=lambda kv: kv[1], reverse=True)\n",
    "px, py = zip(*lists) # unpack a list of pairs into two tuples\n",
    "print(len(lists))\n",
    "x_axis = get_increasing_array(len(lists)+1)\n",
    "plt.title(\"one system call\")\n",
    "plt.plot(x_axis[1:], py)\n",
    "plt.show()\n",
    "#print(px)\n",
    "print(py)\n",
    "\n",
    "#for i in range(len(a_axis)):\n",
    "#    a_axis[1:]\n",
    "#for \n",
    "#PLNumlog[i] = math.log10(PLNum[i])\n",
    "#Numlog[i] = math.log10(Num[i])\n",
    "\n",
    "results = powerlaw.Fit(py)\n",
    "results.power_law.plot_pdf( color= 'b',linestyle='--',label='fit ccdf')\n",
    "results.plot_pdf( color= 'b')\n",
    "print(\"alpha:\", results.power_law.alpha)\n",
    "print(\"Xmin:\", results.power_law.xmin)\n",
    "R, p = results.distribution_compare('power_law', 'lognormal')"
   ]
  },
  {
   "cell_type": "markdown",
   "metadata": {},
   "source": [
    "### n >= 2 的情況 "
   ]
  },
  {
   "cell_type": "code",
   "execution_count": 135,
   "metadata": {},
   "outputs": [
    {
     "name": "stdout",
     "output_type": "stream",
     "text": [
      "7719\n"
     ]
    },
    {
     "data": {
      "image/png": "[encoded data removed]",
      "text/plain": [
       "<Figure size 432x288 with 1 Axes>"
      ]
     },
     "metadata": {
      "needs_background": "light"
     },
     "output_type": "display_data"
    },
    {
     "name": "stderr",
     "output_type": "stream",
     "text": [
      "Calculating best minimal value for power law fit\n"
     ]
    },
    {
     "name": "stdout",
     "output_type": "stream",
     "text": [
      "alpha: 1.8843879834936998\n",
      "Xmin: 99.0\n"
     ]
    },
    {
     "name": "stderr",
     "output_type": "stream",
     "text": [
      "Font 'default' does not have a glyph for '-' [U+2212], substituting with a dummy symbol.\n",
      "Font 'default' does not have a glyph for '-' [U+2212], substituting with a dummy symbol.\n",
      "Font 'default' does not have a glyph for '-' [U+2212], substituting with a dummy symbol.\n",
      "Font 'default' does not have a glyph for '-' [U+2212], substituting with a dummy symbol.\n",
      "Font 'default' does not have a glyph for '-' [U+2212], substituting with a dummy symbol.\n",
      "Font 'default' does not have a glyph for '-' [U+2212], substituting with a dummy symbol.\n",
      "Font 'default' does not have a glyph for '-' [U+2212], substituting with a dummy symbol.\n",
      "Font 'default' does not have a glyph for '-' [U+2212], substituting with a dummy symbol.\n",
      "Font 'default' does not have a glyph for '-' [U+2212], substituting with a dummy symbol.\n",
      "Font 'default' does not have a glyph for '-' [U+2212], substituting with a dummy symbol.\n",
      "Font 'default' does not have a glyph for '-' [U+2212], substituting with a dummy symbol.\n",
      "Font 'default' does not have a glyph for '-' [U+2212], substituting with a dummy symbol.\n",
      "Font 'default' does not have a glyph for '-' [U+2212], substituting with a dummy symbol.\n",
      "Font 'default' does not have a glyph for '-' [U+2212], substituting with a dummy symbol.\n",
      "Font 'default' does not have a glyph for '-' [U+2212], substituting with a dummy symbol.\n",
      "Font 'default' does not have a glyph for '-' [U+2212], substituting with a dummy symbol.\n",
      "Font 'default' does not have a glyph for '-' [U+2212], substituting with a dummy symbol.\n",
      "Font 'default' does not have a glyph for '-' [U+2212], substituting with a dummy symbol.\n",
      "Font 'default' does not have a glyph for '-' [U+2212], substituting with a dummy symbol.\n",
      "Font 'default' does not have a glyph for '-' [U+2212], substituting with a dummy symbol.\n"
     ]
    },
    {
     "data": {
      "image/png": "[encoded data removed]",
      "text/plain": [
       "<Figure size 432x288 with 1 Axes>"
      ]
     },
     "metadata": {
      "needs_background": "light"
     },
     "output_type": "display_data"
    }
   ],
   "source": [
    "n = 3\n",
    "dic_xa = defaultdict(lambda: 0)\n",
    "for d in xa:\n",
    "    data = d.strip().split(' ')\n",
    "    for i in range(len(data) - n + 1):\n",
    "        index = ' '.join(data[i:i+n])\n",
    "        dic_xa[index] = dic_xa[index] + 1\n",
    "\n",
    "lists = sorted(dic_xa.items(), key=lambda kv: kv[1], reverse=True)\n",
    "px, py = zip(*lists) # unpack a list of pairs into two tuples\n",
    "print(len(lists))\n",
    "x_axis = get_increasing_array(len(lists)+1)\n",
    "plt.title(\"one system call\")\n",
    "plt.plot(x_axis[1:], py)\n",
    "plt.show()\n",
    "#print(px)\n",
    "\n",
    "\n",
    "results = powerlaw.Fit(py)\n",
    "results.power_law.plot_pdf( color= 'b',linestyle='--',label='fit ccdf')\n",
    "results.plot_pdf( color= 'b')\n",
    "print(\"alpha:\", results.power_law.alpha)\n",
    "print(\"Xmin:\", results.power_law.xmin)\n",
    "R, p = results.distribution_compare('power_law', 'lognormal')"
   ]
  },
  {
   "cell_type": "markdown",
   "metadata": {},
   "source": [
    "## train data中system call序列長度分佈"
   ]
  },
  {
   "cell_type": "code",
   "execution_count": 49,
   "metadata": {},
   "outputs": [
    {
     "name": "stdout",
     "output_type": "stream",
     "text": [
      "[ 300  300  300  300  300  302  302  303  304  304  305  306  306  307\n",
      "  308  308  310  310  312  312  312  312  312  313  314  314  314  314\n",
      "  314  315  317  318  319  319  319  320  320  320  320  320  321  321\n",
      "  321  322  323  323  323  323  324  325  325  326  326  327  328  328\n",
      "  329  331  331  334  334  335  335  335  336  337  337  338  339  339\n",
      "  340  340  341  341  341  341  343  343  345  345  346  346  347  347\n",
      "  348  348  348  349  350  351  351  351  351  351  351  351  351  351\n",
      "  351  351  352  352  352  352  352  352  353  353  354  354  356  356\n",
      "  358  360  366  366  366  369  369  369  369  370  370  370  370  370\n",
      "  370  370  370  372  372  372  372  373  373  373  374  375  375  376\n",
      "  376  376  376  376  378  378  378  378  380  380  380  381  382  383\n",
      "  383  386  386  387  387  388  389  391  392  392  392  392  392  392\n",
      "  393  395  395  395  395  398  398  400  401  403  404  406  406  406\n",
      "  408  409  410  410  410  412  412  412  412  412  416  416  417  420\n",
      "  421  422  423  424  425  425  425  425  426  427  427  427  427  427\n",
      "  427  427  427  429  429  431  431  432  432  434  436  437  437  438\n",
      "  442  442  445  446  447  448  448  450  451  451  455  456  457  457\n",
      "  457  458  458  459  460  464  464  465  466  467  467  470  472  473\n",
      "  473  473  475  476  476  476  476  477  477  477  478  478  478  478\n",
      "  479  479  479  480  480  481  482  483  484  485  487  487  488  489\n",
      "  490  490  492  492  494  494  495  497  498  498  498  499  500  500\n",
      "  500  500  501  501  501  502  505  505  505  505  506  506  506  507\n",
      "  508  511  511  514  514  514  516  516  518  518  518  518  521  522\n",
      "  522  522  522  524  524  525  526  527  527  530  531  531  531  533\n",
      "  535  538  538  543  545  547  549  549  549  550  551  552  553  555\n",
      "  556  556  557  560  560  561  562  563  563  563  567  567  568  570\n",
      "  570  571  572  573  574  576  576  576  577  579  580  580  582  582\n",
      "  583  585  585  589  590  593  593  594  597  600  600  601  601  603\n",
      "  606  611  611  612  613  614  614  621  621  621  622  622  623  624\n",
      "  624  625  626  628  629  633  636  637  638  641  641  646  652  653\n",
      "  654  657  663  665  665  665  667  668  670  671  671  673  673  675\n",
      "  677  678  680  680  680  683  684  687  688  688  688  689  690  691\n",
      "  694  695  695  696  697  697  699  702  705  705  706  706  709  709\n",
      "  713  713  717  718  718  722  723  724  727  736  742  745  748  749\n",
      "  750  753  756  760  767  768  771  772  773  773  773  774  776  781\n",
      "  788  788  789  789  791  792  793  795  797  799  800  801  806  807\n",
      "  808  814  815  819  820  826  843  843  845  850  852  853  853  856\n",
      "  857  875  877  881  884  884  885  891  892  893  893  897  897  898\n",
      "  899  906  906  907  909  915  917  922  932  932  934  938  938  939\n",
      "  942  944  948  961  963  966  969  970  971  973  980  984  987  996\n",
      " 1006 1007 1011 1016 1020 1030 1034 1035 1039 1042 1043 1044 1048 1049\n",
      " 1049 1059 1063 1067 1072 1074 1076 1076 1076 1076 1081 1088 1094 1095\n",
      " 1098 1099 1118 1129 1131 1138 1139 1150 1159 1159 1167 1172 1192 1194\n",
      " 1196 1198 1200 1202 1207 1218 1229 1241 1244 1252 1258 1274 1274 1276\n",
      " 1282 1284 1288 1302 1307 1312 1315 1335 1343 1345 1346 1346 1348 1352\n",
      " 1375 1375 1378 1391 1393 1400 1407 1430 1437 1449 1452 1460 1461 1464\n",
      " 1466 1471 1472 1473 1485 1486 1500 1500 1511 1522 1534 1536 1537 1538\n",
      " 1540 1546 1554 1555 1574 1617 1622 1622 1626 1638 1647 1648 1670 1676\n",
      " 1685 1691 1702 1706 1726 1728 1729 1746 1793 1795 1797 1811 1819 1830\n",
      " 1830 1830 1836 1858 1868 1890 1924 1937 1959 1964 1979 1982 1990 2007\n",
      " 2009 2027 2027 2028 2030 2036 2062 2073 2093 2108 2145 2148 2151 2168\n",
      " 2184 2185 2190 2206 2212 2215 2224 2230 2232 2233 2243 2263 2280 2280\n",
      " 2288 2307 2309 2339 2342 2354 2359 2364 2365 2373 2390 2406 2418 2446\n",
      " 2456 2477 2480 2481 2481 2484 2492 2545 2557 2583 2600 2615 2672 2717\n",
      " 2719 2738 2751 2756 2788 2810 2847 2849 2852 2875 2881 2936 2951 2975\n",
      " 2983 2984 3018 3062 3082 3142 3147 3185 3211 3270 3272 3306 3405 3512\n",
      " 3632 3659 3698 3757 3757 3757 3757 3757 3757 3757 3762 3791 3839 3850\n",
      " 3878 3883 3933 3972 4062 4062 4273 4346 4350 4369 4387 4428 4490 4689\n",
      " 4699 4719 4837 4843 5000 5012 5017 5022 5044 5067 5103 5291 5375 5408\n",
      " 5665 5745 5797 5831 5920 5920 5956]\n"
     ]
    }
   ],
   "source": [
    "train_len = []\n",
    "for i in range(len(xt)):\n",
    "    train_len.append(len(xt[i]))\n",
    "train_len.sort()\n",
    "Y = np.array(train_len)\n",
    "print(Y)"
   ]
  },
  {
   "cell_type": "markdown",
   "metadata": {},
   "source": [
    "## 特定system call 組合在train data中的單序列呼叫次數分佈"
   ]
  },
  {
   "cell_type": "code",
   "execution_count": 100,
   "metadata": {},
   "outputs": [],
   "source": [
    "target = [78,78]\n",
    "cmd_len = len(target)\n",
    "cmd_index = ' '.join([str(v) for v in target])\n",
    "commend_count = []\n",
    "for d in xt:\n",
    "    count = 0\n",
    "    data = d.strip().split(' ')\n",
    "    for i in range(len(d)):\n",
    "        #print(' '.join(data[i:i+n]))\n",
    "        if cmd_index == ' '.join(data[i:i+cmd_len]):\n",
    "            count = count + 1\n",
    "    commend_count.append(count)\n",
    "\n",
    "for d in xv:\n",
    "    count = 0\n",
    "    data = d.strip().split(' ')\n",
    "    for i in range(len(d)):\n",
    "        #print(' '.join(data[i:i+n]))\n",
    "        if cmd_index == ' '.join(data[i:i+cmd_len]):\n",
    "            count = count + 1\n",
    "    commend_count.append(count)\n"
   ]
  },
  {
   "cell_type": "code",
   "execution_count": 113,
   "metadata": {},
   "outputs": [
    {
     "name": "stdout",
     "output_type": "stream",
     "text": [
      "3065\n",
      "[0.000e+00 1.000e+00 2.000e+00 ... 3.062e+03 3.063e+03 3.064e+03]\n"
     ]
    },
    {
     "data": {
      "image/png": "[encoded data removed]",
      "text/plain": [
       "<Figure size 432x288 with 1 Axes>"
      ]
     },
     "metadata": {
      "needs_background": "light"
     },
     "output_type": "display_data"
    }
   ],
   "source": [
    "#print(max(commend_count))\n",
    "#print(commend_count)\n",
    "sta = np.zeros(max(commend_count)+1)\n",
    "print(len(sta))\n",
    "x_axis = np.zeros(max(commend_count)+1)\n",
    "for i in range(max(commend_count)+1):\n",
    "    x_axis[i] = i\n",
    "\n",
    "for i in commend_count:\n",
    "    sta[i] = sta[i] + 1\n",
    "print(x_axis)\n",
    "#print(len(x_axis))\n",
    "#plt.plot(x_axis[1:-2500], sta[1:-2500])\n",
    "plt.plot(x_axis[1:], sta[1:])\n",
    "plt.show()"
   ]
  },
  {
   "cell_type": "code",
   "execution_count": 114,
   "metadata": {},
   "outputs": [
    {
     "name": "stderr",
     "output_type": "stream",
     "text": [
      "Values less than or equal to 0 in data. Throwing out 0 or negative values\n",
      "Calculating best minimal value for power law fit\n",
      "'nan' in fit cumulative distribution values.\n",
      "Likely underflow or overflow error: the optimal fit for this distribution gives values that are so extreme that we lack the numerical precision to calculate them.\n"
     ]
    },
    {
     "name": "stdout",
     "output_type": "stream",
     "text": [
      "alpha: 2.0045211627754993\n",
      "Xmin: 1.0\n"
     ]
    },
    {
     "name": "stderr",
     "output_type": "stream",
     "text": [
      "Font 'default' does not have a glyph for '-' [U+2212], substituting with a dummy symbol.\n",
      "Font 'default' does not have a glyph for '-' [U+2212], substituting with a dummy symbol.\n",
      "Font 'default' does not have a glyph for '-' [U+2212], substituting with a dummy symbol.\n",
      "Font 'default' does not have a glyph for '-' [U+2212], substituting with a dummy symbol.\n",
      "Font 'default' does not have a glyph for '-' [U+2212], substituting with a dummy symbol.\n",
      "Font 'default' does not have a glyph for '-' [U+2212], substituting with a dummy symbol.\n",
      "Font 'default' does not have a glyph for '-' [U+2212], substituting with a dummy symbol.\n",
      "Font 'default' does not have a glyph for '-' [U+2212], substituting with a dummy symbol.\n",
      "Font 'default' does not have a glyph for '-' [U+2212], substituting with a dummy symbol.\n",
      "Font 'default' does not have a glyph for '-' [U+2212], substituting with a dummy symbol.\n",
      "Font 'default' does not have a glyph for '-' [U+2212], substituting with a dummy symbol.\n",
      "Font 'default' does not have a glyph for '-' [U+2212], substituting with a dummy symbol.\n",
      "Font 'default' does not have a glyph for '-' [U+2212], substituting with a dummy symbol.\n",
      "Font 'default' does not have a glyph for '-' [U+2212], substituting with a dummy symbol.\n",
      "Font 'default' does not have a glyph for '-' [U+2212], substituting with a dummy symbol.\n",
      "Font 'default' does not have a glyph for '-' [U+2212], substituting with a dummy symbol.\n",
      "Font 'default' does not have a glyph for '-' [U+2212], substituting with a dummy symbol.\n",
      "Font 'default' does not have a glyph for '-' [U+2212], substituting with a dummy symbol.\n",
      "Font 'default' does not have a glyph for '-' [U+2212], substituting with a dummy symbol.\n",
      "Font 'default' does not have a glyph for '-' [U+2212], substituting with a dummy symbol.\n",
      "Font 'default' does not have a glyph for '-' [U+2212], substituting with a dummy symbol.\n",
      "Font 'default' does not have a glyph for '-' [U+2212], substituting with a dummy symbol.\n",
      "Font 'default' does not have a glyph for '-' [U+2212], substituting with a dummy symbol.\n",
      "Font 'default' does not have a glyph for '-' [U+2212], substituting with a dummy symbol.\n",
      "Font 'default' does not have a glyph for '-' [U+2212], substituting with a dummy symbol.\n",
      "Font 'default' does not have a glyph for '-' [U+2212], substituting with a dummy symbol.\n",
      "Font 'default' does not have a glyph for '-' [U+2212], substituting with a dummy symbol.\n",
      "Font 'default' does not have a glyph for '-' [U+2212], substituting with a dummy symbol.\n"
     ]
    },
    {
     "data": {
      "image/png": "[encoded data removed]",
      "text/plain": [
       "<Figure size 432x288 with 1 Axes>"
      ]
     },
     "metadata": {
      "needs_background": "light"
     },
     "output_type": "display_data"
    }
   ],
   "source": [
    "results = powerlaw.Fit(sta)\n",
    "results.power_law.plot_pdf( color= 'b',linestyle='--',label='fit ccdf')\n",
    "results.plot_pdf( color= 'b')\n",
    "print(\"alpha:\", results.power_law.alpha)\n",
    "print(\"Xmin:\", results.power_law.xmin)\n",
    "R, p = results.distribution_compare('power_law', 'lognormal')"
   ]
  }
 ],
 "metadata": {
  "kernelspec": {
   "display_name": "Python 3",
   "language": "python",
   "name": "python3"
  }
 },
 "nbformat": 4,
 "nbformat_minor": 2
}

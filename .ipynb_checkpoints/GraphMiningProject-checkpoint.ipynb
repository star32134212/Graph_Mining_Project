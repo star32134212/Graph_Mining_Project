{
 "cells": [
  {
   "cell_type": "code",
   "execution_count": 7,
   "metadata": {},
   "outputs": [],
   "source": [
    "import re\n",
    "from sklearn.feature_extraction.text import CountVectorizer\n",
    "from sklearn.model_selection import cross_val_score\n",
    "\n",
    "import os\n",
    "import numpy as np\n",
    "from sklearn.neighbors import KNeighborsClassifier"
   ]
  },
  {
   "cell_type": "code",
   "execution_count": 8,
   "metadata": {},
   "outputs": [],
   "source": [
    "def load_flle(filename):\n",
    "    x = []\n",
    "    with open(filename) as f:\n",
    "        line = f.readline()\n",
    "        line = line.strip('\\n')\n",
    "    return line\n",
    "\n",
    "def dirlist(path, files):\n",
    "    filelist = os.listdir(path)\n",
    "\n",
    "    for filename in filelist:\n",
    "        filepath = os.path.join(path, filename)\n",
    "        if os.path.isdir(filepath):\n",
    "            dirlist(filepath, files)\n",
    "        else:\n",
    "            files.append(filepath)\n",
    "    return files\n",
    "\n",
    "def load_train_files(path):\n",
    "    x = []\n",
    "    y = []\n",
    "    list = os.listdir(path)\n",
    "    for i in range(0, len(list)):\n",
    "        path2 = os.path.join(path, list[i])\n",
    "        if os.path.isfile(path2):\n",
    "            x.append(load_flle(path2))\n",
    "            y.append(0)\n",
    "    return x, y\n",
    "\n",
    "\n",
    "def load_attack_files(path, x, y, attack_type):\n",
    "    for i in range(1,11):\n",
    "        files = dirlist(path + attack_type +\"_\" + str(i), [])\n",
    "        print(attack_type + \" data:\" + str(len(files)))\n",
    "        for file in files:\n",
    "            x.append(load_flle(file))\n",
    "            y.append(1)\n",
    "    return x, y\n"
   ]
  },
  {
   "cell_type": "code",
   "execution_count": 9,
   "metadata": {},
   "outputs": [
    {
     "name": "stdout",
     "output_type": "stream",
     "text": [
      "Adduser data:7\n",
      "Adduser data:8\n",
      "Adduser data:8\n",
      "Adduser data:7\n",
      "Adduser data:10\n",
      "Adduser data:8\n",
      "Adduser data:8\n",
      "Adduser data:7\n",
      "Adduser data:22\n",
      "Adduser data:6\n",
      "Hydra_FTP data:12\n",
      "Hydra_FTP data:17\n",
      "Hydra_FTP data:20\n",
      "Hydra_FTP data:14\n",
      "Hydra_FTP data:18\n",
      "Hydra_FTP data:20\n",
      "Hydra_FTP data:14\n",
      "Hydra_FTP data:12\n",
      "Hydra_FTP data:22\n",
      "Hydra_FTP data:13\n",
      "Hydra_SSH data:8\n",
      "Hydra_SSH data:25\n",
      "Hydra_SSH data:22\n",
      "Hydra_SSH data:12\n",
      "Hydra_SSH data:20\n",
      "Hydra_SSH data:19\n",
      "Hydra_SSH data:11\n",
      "Hydra_SSH data:19\n",
      "Hydra_SSH data:28\n",
      "Hydra_SSH data:12\n",
      "Java_Meterpreter data:11\n",
      "Java_Meterpreter data:11\n",
      "Java_Meterpreter data:12\n",
      "Java_Meterpreter data:13\n",
      "Java_Meterpreter data:12\n",
      "Java_Meterpreter data:12\n",
      "Java_Meterpreter data:13\n",
      "Java_Meterpreter data:13\n",
      "Java_Meterpreter data:15\n",
      "Java_Meterpreter data:12\n",
      "Meterpreter data:7\n",
      "Meterpreter data:10\n",
      "Meterpreter data:8\n",
      "Meterpreter data:6\n",
      "Meterpreter data:5\n",
      "Meterpreter data:13\n",
      "Meterpreter data:6\n",
      "Meterpreter data:7\n",
      "Meterpreter data:5\n",
      "Meterpreter data:8\n",
      "Web_Shell data:14\n",
      "Web_Shell data:13\n",
      "Web_Shell data:7\n",
      "Web_Shell data:10\n",
      "Web_Shell data:9\n",
      "Web_Shell data:11\n",
      "Web_Shell data:14\n",
      "Web_Shell data:13\n",
      "Web_Shell data:11\n",
      "Web_Shell data:16\n"
     ]
    }
   ],
   "source": [
    "attack_type = ['Adduser', 'Hydra_FTP', 'Hydra_SSH', 'Java_Meterpreter', 'Meterpreter', 'Web_Shell']\n",
    "xa = []\n",
    "ya = []\n",
    "for attack in attack_type:\n",
    "    xa, ya = load_attack_files(\"ADFA-LD/Attack_Data_Master/\", xa, ya, attack)\n",
    "xt, yt = load_train_files(\"ADFA-LD/Training_Data_Master/\")  \n",
    "xv, yv = load_train_files(\"ADFA-LD/Validation_Data_Master/\")  \n",
    "x_trn = xt + xa\n",
    "y_trn = yt + ya\n",
    "x_val = xv + xa\n",
    "y_val = yv + ya"
   ]
  },
  {
   "cell_type": "code",
   "execution_count": 47,
   "metadata": {},
   "outputs": [
    {
     "data": {
      "text/plain": [
       "746"
      ]
     },
     "execution_count": 47,
     "metadata": {},
     "output_type": "execute_result"
    }
   ],
   "source": [
    "len(ya)"
   ]
  },
  {
   "cell_type": "code",
   "execution_count": null,
   "metadata": {},
   "outputs": [],
   "source": []
  }
 ],
 "metadata": {
  "kernelspec": {
   "display_name": "Python 3",
   "language": "python",
   "name": "python3"
  },
  "language_info": {
   "codemirror_mode": {
    "name": "ipython",
    "version": 3
   },
   "file_extension": ".py",
   "mimetype": "text/x-python",
   "name": "python",
   "nbconvert_exporter": "python",
   "pygments_lexer": "ipython3",
   "version": "3.7.3"
  }
 },
 "nbformat": 4,
 "nbformat_minor": 2
}

{
 "cells": [
  {
   "cell_type": "code",
   "execution_count": 1,
   "metadata": {},
   "outputs": [],
   "source": [
    "import re\n",
    "from collections import defaultdict\n",
    "import matplotlib.pyplot as plt\n",
    "import os\n",
    "import numpy as np\n",
    "import powerlaw\n",
    "import math\n"
   ]
  },
  {
   "cell_type": "markdown",
   "metadata": {},
   "source": [
    "## read dataset function"
   ]
  },
  {
   "cell_type": "code",
   "execution_count": 2,
   "metadata": {},
   "outputs": [],
   "source": [
    "def load_flle(filename):\n",
    "    x = []\n",
    "    with open(filename) as f:\n",
    "        line = f.readline()\n",
    "        line = line.strip('\\n')\n",
    "    return line\n",
    "\n",
    "def dirlist(path, files):\n",
    "    filelist = os.listdir(path)\n",
    "\n",
    "    for filename in filelist:\n",
    "        filepath = os.path.join(path, filename)\n",
    "        if os.path.isdir(filepath):\n",
    "            dirlist(filepath, files)\n",
    "        else:\n",
    "            files.append(filepath)\n",
    "    return files\n",
    "\n",
    "def load_train_files(path):\n",
    "    x = []\n",
    "    y = []\n",
    "    list = os.listdir(path)\n",
    "    for i in range(0, len(list)):\n",
    "        path2 = os.path.join(path, list[i])\n",
    "        if os.path.isfile(path2):\n",
    "            x.append(load_flle(path2))\n",
    "            y.append(0)\n",
    "    return x, y\n",
    "\n",
    "\n",
    "def load_attack_files(path, x, y, attack_type):\n",
    "    total = 0\n",
    "    for i in range(1,11):\n",
    "        files = dirlist(path + attack_type +\"_\" + str(i), [])\n",
    "        total = total + len(files)\n",
    "        for file in files:\n",
    "            x.append(load_flle(file))\n",
    "            y.append(1)\n",
    "    print(attack_type + \" data: \" + str(total))\n",
    "    return x, y\n",
    "\n",
    "def get_increasing_array(length): #拿到x軸的數列 : [1,2,3,.....,N]\n",
    "    arr = np.zeros(length)\n",
    "    for i in range(length):\n",
    "        arr[i] = i\n",
    "    return arr\n",
    "\n",
    "def find_one(arr): #找到陣列第一個出現1的index\n",
    "    for i in range(len(arr)):\n",
    "        if arr[i] == 1:\n",
    "            break\n",
    "    return i\n",
    "\n",
    "def indent(arr):\n",
    "    last = -1\n",
    "    rt_arr = np.zeros(1)\n",
    "    for i in range(len(arr)):\n",
    "        if arr[i] != last:\n",
    "            rt_arr = np.append(rt_arr, arr[i])\n",
    "            last = arr[i]\n",
    "            \n",
    "    return rt_arr[1:]"
   ]
  },
  {
   "cell_type": "markdown",
   "metadata": {},
   "source": [
    "## read data"
   ]
  },
  {
   "cell_type": "code",
   "execution_count": 159,
   "metadata": {},
   "outputs": [
    {
     "name": "stdout",
     "output_type": "stream",
     "text": [
      "Adduser data: 91\n",
      "Hydra_FTP data: 162\n",
      "Hydra_SSH data: 176\n",
      "Java_Meterpreter data: 124\n",
      "Meterpreter data: 75\n",
      "Web_Shell data: 118\n"
     ]
    }
   ],
   "source": [
    "attack_type = ['Adduser', 'Hydra_FTP', 'Hydra_SSH', 'Java_Meterpreter', 'Meterpreter', 'Web_Shell']\n",
    "xa = []\n",
    "ya = []\n",
    "for attack in attack_type:\n",
    "    xa, ya = load_attack_files(\"ADFA-LD/Attack_Data_Master/\", xa, ya, attack)\n",
    "xt, yt = load_train_files(\"ADFA-LD/Training_Data_Master/\")  \n",
    "xv, yv = load_train_files(\"ADFA-LD/Validation_Data_Master/\")  \n",
    "x_trn = xt + xa\n",
    "y_trn = yt + ya\n",
    "x_val = xv \n",
    "y_val = yv \n"
   ]
  },
  {
   "cell_type": "markdown",
   "metadata": {},
   "source": [
    "## Parameter"
   ]
  },
  {
   "cell_type": "code",
   "execution_count": 148,
   "metadata": {},
   "outputs": [],
   "source": [
    "np.set_printoptions(suppress=True)\n",
    "n = 10\n",
    "left = 0\n",
    "right = 100"
   ]
  },
  {
   "cell_type": "code",
   "execution_count": 164,
   "metadata": {},
   "outputs": [
    {
     "name": "stdout",
     "output_type": "stream",
     "text": [
      "['174', '174', '174', '174', '174', '174', '221', '221', '221', '221', '221', '221', '221', '221', '221', '221', '221', '221', '221', '221', '221', '221', '221', '221', '221', '221', '221', '221', '221', '221', '221', '221', '221', '221', '221', '221', '221', '221', '221', '221', '221', '221', '66', '54', '6', '63', '63', '63', '6', '6', '12', '54', '221', '221', '3', '221', '11', '45', '33', '192', '33', '5', '197', '192', '6', '33', '5', '3', '197', '192', '192', '6', '33', '5', '3', '197', '192', '192', '192', '6', '33', '5', '3', '197', '192', '192', '192', '6', '192', '243', '125', '125', '125', '125', '125', '91', '268', '45', '45', '5', '197', '192', '3', '3', '6', '91', '5', '197', '192', '192', '6', '60', '5', '221', '220', '220', '6', '5', '197', '192', '3', '3', '6', '91', '5', '197', '192', '3', '3', '6', '91', '5', '5', '5', '5', '5', '5', '5', '5', '5', '5', '5', '5', '221', '221', '199', '201', '33', '5', '221', '221', '221', '5', '197', '192', '3', '45', '45', '45', '45', '45', '45', '45', '45', '45', '45', '45', '45', '45', '45', '45', '45', '45', '45', '45', '91', '6', '5', '220', '220', '6', '5', '221', '221', '197', '192', '4', '4', '140', '5', '197', '192', '3', '3', '6', '91', '5', '221', '221', '221', '195', '221', '5', '3', '3', '6', '195', '195', '195', '195', '195', '195', '195', '195', '195', '195', '195', '195', '195', '195', '195', '195', '195', '195', '195', '195', '195', '195', '195', '195', '195', '195', '195', '195', '195', '195', '195', '195', '195', '195', '195', '195', '5', '197', '192', '197', '140', '4', '118', '45', '6', '5', '4', '118', '6', '5', '4', '120', '174', '7', '174', '174', '5', '197', '197', '6', '13', '195', '4', '4', '4', '118', '38', '118', '5', '5', '118', '4', '120', '174', '91', '5', '221', '4', '4', '4', '4', '4', '4', '4', '4', '4', '4', '4', '4', '4', '4', '4', '4', '4', '4', '4', '4', '4', '4', '4', '4', '4', '4', '4', '4', '4', '4', '4', '4', '4', '4', '4', '4', '4', '4', '4', '4', '4', '4', '4', '4', '4', '4', '4', '4', '4', '4', '4', '4', '4', '4', '4', '4', '4', '4', '4', '4', '4', '4', '4', '4', '4', '4', '4', '4', '4', '4', '4', '4', '4', '4', '4', '4', '4', '4', '4', '4', '4', '4', '4', '4', '4', '4', '4', '4', '4', '4', '4', '4', '4', '4', '4', '4', '4', '4', '4', '4', '4', '4', '4', '4', '4', '4', '4', '4', '4', '4', '4', '4', '4', '4', '118', '6', '10', '9', '38', '5', '118', '6', '10', '10', '10', '10', '118', '6', '6', '91']\n"
     ]
    },
    {
     "data": {
      "text/plain": [
       "array(['174', '221', '66', '54', '6', '63', '6', '12', '54', '221', '3',\n",
       "       '221', '11', '45', '33', '192', '33', '5', '197', '192', '6', '33',\n",
       "       '5', '3', '197', '192', '6', '33', '5', '3', '197', '192', '6',\n",
       "       '33', '5', '3', '197', '192', '6', '192', '243', '125', '91',\n",
       "       '268', '45', '5', '197', '192', '3', '6', '91', '5', '197', '192',\n",
       "       '6', '60', '5', '221', '220', '6', '5', '197', '192', '3', '6',\n",
       "       '91', '5', '197', '192', '3', '6', '91', '5', '221', '199', '201',\n",
       "       '33', '5', '221', '5', '197', '192', '3', '45', '91', '6', '5',\n",
       "       '220', '6', '5', '221', '197', '192', '4', '140', '5', '197',\n",
       "       '192', '3', '6', '91', '5', '221', '195', '221', '5', '3', '6',\n",
       "       '195', '5', '197', '192', '197', '140', '4', '118', '45', '6', '5',\n",
       "       '4', '118', '6', '5', '4', '120', '174', '7', '174', '5', '197',\n",
       "       '6', '13', '195', '4', '118', '38', '118', '5', '118', '4', '120',\n",
       "       '174', '91', '5', '221', '4', '118', '6', '10', '9', '38', '5',\n",
       "       '118', '6', '10', '118', '6', '91'], dtype='<U32')"
      ]
     },
     "execution_count": 164,
     "metadata": {},
     "output_type": "execute_result"
    }
   ],
   "source": [
    "print(xt[1].strip().split(' '))\n",
    "indent(xt[1].strip().split(' '))"
   ]
  },
  {
   "cell_type": "markdown",
   "metadata": {},
   "source": [
    "### Normal"
   ]
  },
  {
   "cell_type": "markdown",
   "metadata": {},
   "source": [
    "### adduser"
   ]
  },
  {
   "cell_type": "code",
   "execution_count": 6,
   "metadata": {},
   "outputs": [
    {
     "name": "stdout",
     "output_type": "stream",
     "text": [
      "Adduser data: 91\n"
     ]
    },
    {
     "data": {
      "image/png": "[encoded data removed]",
      "text/plain": [
       "<Figure size 432x288 with 1 Axes>"
      ]
     },
     "metadata": {
      "needs_background": "light"
     },
     "output_type": "display_data"
    },
    {
     "name": "stdout",
     "output_type": "stream",
     "text": [
      "('168 168', '168 265', '265 168', '162 162', '54 54', '3 168', '168 3', '265 265', '3 3', '265 3')\n",
      "(5964, 2650, 2597, 2549, 2079, 1739, 1694, 1541, 1113, 1067)\n"
     ]
    }
   ],
   "source": [
    "dic_addusr = defaultdict(lambda: 0)\n",
    "x_addusr = []\n",
    "y_addusr = []\n",
    "x_addusr, y_addusr = load_attack_files(\"ADFA-LD/Attack_Data_Master/\", x_addusr, y_addusr, 'Adduser')\n",
    "for d in x_addusr:\n",
    "    data = d.strip().split(' ')\n",
    "    for i in range(len(data) - n + 1):\n",
    "        index = ' '.join(data[i:i+n])\n",
    "        dic_addusr[index] = dic_addusr[index] + 1\n",
    "\n",
    "lists = sorted(dic_addusr.items(), key=lambda kv: kv[1], reverse=True)\n",
    "px, py = zip(*lists[left:right]) # unpack a list of pairs into two tuples\n",
    "\n",
    "plt.title(\"Adduser\")\n",
    "plt.plot(px, py)\n",
    "plt.show()\n",
    "print(px)\n",
    "print(py)"
   ]
  },
  {
   "cell_type": "markdown",
   "metadata": {},
   "source": [
    "### Hydra FTP"
   ]
  },
  {
   "cell_type": "code",
   "execution_count": 7,
   "metadata": {},
   "outputs": [
    {
     "name": "stdout",
     "output_type": "stream",
     "text": [
      "Hydra_FTP data: 162\n"
     ]
    },
    {
     "data": {
      "image/png": "[encoded data removed]",
      "text/plain": [
       "<Figure size 432x288 with 1 Axes>"
      ]
     },
     "metadata": {
      "needs_background": "light"
     },
     "output_type": "display_data"
    },
    {
     "name": "stdout",
     "output_type": "stream",
     "text": [
      "('168 168', '168 265', '265 168', '265 265', '3 3', '3 168', '168 3', '78 78', '142 78', '78 142')\n",
      "(5153, 2512, 2340, 1612, 1512, 1412, 1295, 1292, 1236, 1162)\n"
     ]
    }
   ],
   "source": [
    "dic_ftp = defaultdict(lambda: 0)\n",
    "x_ftp = []\n",
    "y_ftp = []\n",
    "x_ftp, y_ftp = load_attack_files(\"ADFA-LD/Attack_Data_Master/\", x_ftp, y_ftp, 'Hydra_FTP')\n",
    "for d in x_ftp:\n",
    "    data = d.strip().split(' ')\n",
    "    for i in range(len(data) - n + 1):\n",
    "        index = ' '.join(data[i:i+n])\n",
    "        dic_ftp[index] = dic_ftp[index] + 1\n",
    "\n",
    "lists = sorted(dic_ftp.items(), key=lambda kv: kv[1], reverse=True)\n",
    "px, py = zip(*lists[left:right]) # unpack a list of pairs into two tuples\n",
    "\n",
    "plt.title(\"Hydra FTP\")\n",
    "plt.plot(px, py)\n",
    "plt.show()\n",
    "print(px)\n",
    "print(py)"
   ]
  },
  {
   "cell_type": "markdown",
   "metadata": {},
   "source": [
    "### Hydra SSH"
   ]
  },
  {
   "cell_type": "code",
   "execution_count": 8,
   "metadata": {},
   "outputs": [
    {
     "name": "stdout",
     "output_type": "stream",
     "text": [
      "Hydra_SSH data: 176\n"
     ]
    },
    {
     "data": {
      "image/png": "[encoded data removed]",
      "text/plain": [
       "<Figure size 432x288 with 1 Axes>"
      ]
     },
     "metadata": {
      "needs_background": "light"
     },
     "output_type": "display_data"
    },
    {
     "name": "stdout",
     "output_type": "stream",
     "text": [
      "('168 265', '265 168', '265 265', '168 168', '3 265', '265 3', '265 43', '3 3', '3 168', '240 240')\n",
      "(6628, 5200, 5009, 4642, 4216, 3586, 2373, 2124, 1772, 1565)\n"
     ]
    }
   ],
   "source": [
    "dic_ssh = defaultdict(lambda: 0)\n",
    "x_ssh = []\n",
    "y_ssh = []\n",
    "x_ssh, y_ssh = load_attack_files(\"ADFA-LD/Attack_Data_Master/\", x_ssh, y_ssh, 'Hydra_SSH')\n",
    "for d in x_ssh:\n",
    "    data = d.strip().split(' ')\n",
    "    for i in range(len(data) - n + 1):\n",
    "        index = ' '.join(data[i:i+n])\n",
    "        dic_ssh[index] = dic_ssh[index] + 1\n",
    "\n",
    "lists = sorted(dic_ssh.items(), key=lambda kv: kv[1], reverse=True)\n",
    "px, py = zip(*lists[left:right]) # unpack a list of pairs into two tuples\n",
    "\n",
    "plt.title(\"Hydra SSH\")\n",
    "plt.plot(px, py)\n",
    "plt.show()\n",
    "print(px)\n",
    "print(py)"
   ]
  },
  {
   "cell_type": "markdown",
   "metadata": {},
   "source": [
    "### Java Meterpreter"
   ]
  },
  {
   "cell_type": "code",
   "execution_count": 9,
   "metadata": {},
   "outputs": [
    {
     "name": "stdout",
     "output_type": "stream",
     "text": [
      "Java_Meterpreter data: 124\n"
     ]
    },
    {
     "data": {
      "image/png": "[encoded data removed]",
      "text/plain": [
       "<Figure size 432x288 with 1 Axes>"
      ]
     },
     "metadata": {
      "needs_background": "light"
     },
     "output_type": "display_data"
    },
    {
     "name": "stdout",
     "output_type": "stream",
     "text": [
      "('78 78', '168 168', '168 265', '240 240', '265 168', '265 265', '162 162', '3 168', '168 3', '265 3')\n",
      "(7296, 4439, 3512, 3405, 3370, 3287, 2424, 2040, 1907, 1902)\n"
     ]
    }
   ],
   "source": [
    "dic_java = defaultdict(lambda: 0)\n",
    "x_java = []\n",
    "y_java = []\n",
    "x_java, y_java = load_attack_files(\"ADFA-LD/Attack_Data_Master/\", x_java, y_java, 'Java_Meterpreter')\n",
    "for d in x_java:\n",
    "    data = d.strip().split(' ')\n",
    "    for i in range(len(data) - n + 1):\n",
    "        index = ' '.join(data[i:i + n])\n",
    "        dic_java[index] = dic_java[index] + 1\n",
    "\n",
    "lists = sorted(dic_java.items(), key=lambda kv: kv[1], reverse=True)\n",
    "px, py = zip(*lists[left:right]) # unpack a list of pairs into two tuples\n",
    "\n",
    "plt.title(\"Java Meterpreter\")\n",
    "plt.plot(px, py)\n",
    "plt.show()\n",
    "print(px)\n",
    "print(py)"
   ]
  },
  {
   "cell_type": "markdown",
   "metadata": {},
   "source": [
    "### Meterpreter"
   ]
  },
  {
   "cell_type": "code",
   "execution_count": 10,
   "metadata": {},
   "outputs": [
    {
     "name": "stdout",
     "output_type": "stream",
     "text": [
      "Meterpreter data: 75\n"
     ]
    },
    {
     "data": {
      "image/png": "[encoded data removed]",
      "text/plain": [
       "<Figure size 432x288 with 1 Axes>"
      ]
     },
     "metadata": {
      "needs_background": "light"
     },
     "output_type": "display_data"
    },
    {
     "name": "stdout",
     "output_type": "stream",
     "text": [
      "('168 168', '168 265', '265 168', '265 265', '3 3', '3 265', '168 3', '3 168', '265 3', '19 3')\n",
      "(3960, 3360, 3345, 3251, 2209, 1866, 1802, 1785, 1753, 513)\n"
     ]
    }
   ],
   "source": [
    "dic_met = defaultdict(lambda: 0)\n",
    "x_met = []\n",
    "y_met = []\n",
    "x_met, y_met = load_attack_files(\"ADFA-LD/Attack_Data_Master/\", x_met, y_met, 'Meterpreter')\n",
    "for d in x_met:\n",
    "    data = d.strip().split(' ')\n",
    "    for i in range(len(data) - n + 1):\n",
    "        index = ' '.join(data[i:i+n])\n",
    "        dic_met[index] = dic_met[index] + 1\n",
    "\n",
    "lists = sorted(dic_met.items(), key=lambda kv: kv[1], reverse=True)\n",
    "px, py = zip(*lists[left:right]) # unpack a list of pairs into two tuples\n",
    "\n",
    "plt.title(\"Meterpreter\")\n",
    "plt.plot(px, py)\n",
    "plt.show()\n",
    "print(px)\n",
    "print(py)\n"
   ]
  },
  {
   "cell_type": "markdown",
   "metadata": {},
   "source": [
    "### Web Shell"
   ]
  },
  {
   "cell_type": "code",
   "execution_count": 27,
   "metadata": {
    "scrolled": true
   },
   "outputs": [
    {
     "name": "stdout",
     "output_type": "stream",
     "text": [
      "Web_Shell data: 118\n"
     ]
    },
    {
     "data": {
      "image/png": "[encoded data removed]",
      "text/plain": [
       "<Figure size 432x288 with 1 Axes>"
      ]
     },
     "metadata": {
      "needs_background": "light"
     },
     "output_type": "display_data"
    },
    {
     "name": "stdout",
     "output_type": "stream",
     "text": [
      "('168 168', '168 265', '265 168', '3 168', '265 265', '168 3', '3 3', '3 265', '265 3', '142 142', '102 168', '168 102', '301 301', '142 3', '5 5', '3 142', '195 195', '43 168', '265 43', '3 19', '168 43', '19 3', '168 146', '146 168', '5 3', '19 19', '265 142', '3 5', '43 3', '142 265', '43 265', '54 54', '104 3', '146 3', '78 78', '4 4', '3 104', '91 5', '265 146', '78 168', '146 265', '3 43', '102 102', '5 91', '168 78', '13 13', '3 146', '5 6', '174 174', '6 5', '3 175', '142 104', '13 4', '104 142', '4 13', '33 33', '7 142', '3 78', '142 7', '43 43', '265 104', '104 265', '3 6', '240 240', '175 142', '240 4', '309 54', '54 309', '142 146', '91 3', '4 240', '3 91', '5 197', '78 3', '4 78', '6 3', '91 91', '175 3', '78 4', '142 175', '146 142', '3 197', '6 91', '197 192', '192 192', '5 195', '4 168', '192 6', '196 196', '340 168', '168 4', '13 240', '78 13', '195 5', '265 102', '195 196', '91 6', '102 265', '7 7', '240 13')\n",
      "(11483, 5038, 4909, 2955, 2895, 2846, 2689, 1986, 1948, 764, 737, 733, 623, 488, 469, 451, 438, 390, 365, 353, 352, 352, 343, 315, 304, 285, 283, 267, 251, 246, 235, 226, 218, 216, 204, 197, 196, 188, 185, 173, 168, 165, 160, 160, 157, 151, 147, 145, 141, 134, 128, 124, 118, 118, 117, 111, 111, 110, 109, 107, 106, 105, 103, 98, 95, 95, 95, 93, 91, 87, 87, 86, 85, 83, 83, 83, 81, 78, 74, 73, 72, 71, 69, 69, 67, 63, 62, 61, 57, 57, 57, 56, 55, 55, 55, 54, 51, 51, 51, 50)\n"
     ]
    }
   ],
   "source": [
    "dic_web = defaultdict(lambda: 0)\n",
    "x_web = []\n",
    "y_web = []\n",
    "x_web, y_web = load_attack_files(\"ADFA-LD/Attack_Data_Master/\", x_web, y_web, 'Web_Shell')\n",
    "for d in x_web:\n",
    "    data = d.strip().split(' ')\n",
    "    for i in range(len(data) - n + 1):\n",
    "        index = ' '.join(data[i:i+n])\n",
    "        dic_web[index] = dic_web[index] + 1\n",
    "\n",
    "lists = sorted(dic_web.items(), key=lambda kv: kv[1], reverse=True)\n",
    "px, py = zip(*lists[left:right]) # unpack a list of pairs into two tuples\n",
    "\n",
    "plt.title(\"Web Shell\")\n",
    "plt.plot(px, py)\n",
    "plt.xticks([]) #關閉X軸\n",
    "plt.show()\n",
    "print(px)\n",
    "print(py)"
   ]
  },
  {
   "cell_type": "markdown",
   "metadata": {},
   "source": [
    "### 攻擊序列中 n-gram之累積數分布與power law"
   ]
  },
  {
   "cell_type": "markdown",
   "metadata": {},
   "source": [
    "### n = 1 的情況 "
   ]
  },
  {
   "cell_type": "code",
   "execution_count": 12,
   "metadata": {},
   "outputs": [
    {
     "name": "stdout",
     "output_type": "stream",
     "text": [
      "攻擊序列中出現的system call種類 :  90\n"
     ]
    },
    {
     "data": {
      "image/png": "[encoded data removed]",
      "text/plain": [
       "<Figure size 432x288 with 1 Axes>"
      ]
     },
     "metadata": {
      "needs_background": "light"
     },
     "output_type": "display_data"
    },
    {
     "name": "stdout",
     "output_type": "stream",
     "text": [
      "(75175, 61396, 45819, 21125, 11782, 11316, 7781, 6992, 6751, 6446, 6071, 5552, 5506, 4725, 4191, 3579, 3322, 2695, 2582, 2369, 2046, 1974, 1971, 1952, 1697, 1694, 1452, 1133, 795, 756, 750, 724, 630, 574, 519, 430, 347, 294, 254, 225, 162, 161, 157, 125, 112, 112, 103, 103, 88, 71, 68, 68, 67, 63, 62, 58, 55, 49, 47, 33, 27, 26, 18, 18, 18, 16, 16, 13, 13, 10, 7, 6, 6, 5, 5, 4, 3, 3, 3, 2, 2, 2, 2, 1, 1, 1, 1, 1, 1, 1)\n",
      "alpha: 2.021106382776984\n",
      "Xmin: 4191.0\n"
     ]
    },
    {
     "name": "stderr",
     "output_type": "stream",
     "text": [
      "Calculating best minimal value for power law fit\n",
      "/Users/user/anaconda3/lib/python3.7/site-packages/powerlaw.py:700: RuntimeWarning: invalid value encountered in true_divide\n",
      "  (Theoretical_CDF * (1 - Theoretical_CDF))\n",
      "/Users/user/anaconda3/lib/python3.7/site-packages/powerlaw.py:700: RuntimeWarning: invalid value encountered in true_divide\n",
      "  (Theoretical_CDF * (1 - Theoretical_CDF))\n",
      "Font 'default' does not have a glyph for '-' [U+2212], substituting with a dummy symbol.\n",
      "Font 'default' does not have a glyph for '-' [U+2212], substituting with a dummy symbol.\n",
      "Font 'default' does not have a glyph for '-' [U+2212], substituting with a dummy symbol.\n",
      "Font 'default' does not have a glyph for '-' [U+2212], substituting with a dummy symbol.\n",
      "Font 'default' does not have a glyph for '-' [U+2212], substituting with a dummy symbol.\n",
      "Font 'default' does not have a glyph for '-' [U+2212], substituting with a dummy symbol.\n",
      "Font 'default' does not have a glyph for '-' [U+2212], substituting with a dummy symbol.\n",
      "Font 'default' does not have a glyph for '-' [U+2212], substituting with a dummy symbol.\n",
      "Font 'default' does not have a glyph for '-' [U+2212], substituting with a dummy symbol.\n",
      "Font 'default' does not have a glyph for '-' [U+2212], substituting with a dummy symbol.\n",
      "Font 'default' does not have a glyph for '-' [U+2212], substituting with a dummy symbol.\n",
      "Font 'default' does not have a glyph for '-' [U+2212], substituting with a dummy symbol.\n"
     ]
    },
    {
     "data": {
      "image/png": "[encoded data removed]",
      "text/plain": [
       "<Figure size 432x288 with 1 Axes>"
      ]
     },
     "metadata": {
      "needs_background": "light"
     },
     "output_type": "display_data"
    }
   ],
   "source": [
    "n = 1\n",
    "dic_xa = defaultdict(lambda: 0)\n",
    "\n",
    "#對 n-gram的組合做統計並存到字典\n",
    "for d in xa:\n",
    "    data = d.strip().split(' ')\n",
    "    for i in range(len(data) - n + 1):\n",
    "        index = ' '.join(data[i:i+n])\n",
    "        dic_xa[index] = dic_xa[index] + 1\n",
    "\n",
    "lists = sorted(dic_xa.items(), key=lambda kv: kv[1], reverse=True)\n",
    "px, py = zip(*lists) \n",
    "print('攻擊序列中出現的system call種類 : ',len(lists))\n",
    "\n",
    "#生成一個[1,2,3,4,5,......,n]的陣列做x軸\n",
    "x_axis = get_increasing_array(len(lists)+1)\n",
    "plt.title(\"one system call\")\n",
    "plt.plot(x_axis[1:], py)\n",
    "plt.show()\n",
    "#print(px)\n",
    "print(py)\n",
    "\n",
    "#for i in range(len(a_axis)):\n",
    "#    a_axis[1:]\n",
    "#for \n",
    "#PLNumlog[i] = math.log10(PLNum[i])\n",
    "#Numlog[i] = math.log10(Num[i])\n",
    "\n",
    "results = powerlaw.Fit(py)\n",
    "results.power_law.plot_pdf( color= 'b',linestyle='--',label='fit ccdf')\n",
    "results.plot_pdf( color= 'b')\n",
    "print(\"alpha:\", results.power_law.alpha)\n",
    "print(\"Xmin:\", results.power_law.xmin)\n",
    "R, p = results.distribution_compare('power_law', 'lognormal')"
   ]
  },
  {
   "cell_type": "markdown",
   "metadata": {},
   "source": [
    "### n >= 2 的情況 "
   ]
  },
  {
   "cell_type": "code",
   "execution_count": 13,
   "metadata": {},
   "outputs": [
    {
     "name": "stdout",
     "output_type": "stream",
     "text": [
      "攻擊序列中出現的system call種類 :  1413\n"
     ]
    },
    {
     "data": {
      "image/png": "[encoded data removed]",
      "text/plain": [
       "<Figure size 432x288 with 1 Axes>"
      ]
     },
     "metadata": {
      "needs_background": "light"
     },
     "output_type": "display_data"
    },
    {
     "name": "stderr",
     "output_type": "stream",
     "text": [
      "Calculating best minimal value for power law fit\n"
     ]
    },
    {
     "name": "stdout",
     "output_type": "stream",
     "text": [
      "alpha: 1.5584624335269894\n",
      "Xmin: 21.0\n"
     ]
    },
    {
     "name": "stderr",
     "output_type": "stream",
     "text": [
      "Font 'default' does not have a glyph for '-' [U+2212], substituting with a dummy symbol.\n",
      "Font 'default' does not have a glyph for '-' [U+2212], substituting with a dummy symbol.\n",
      "Font 'default' does not have a glyph for '-' [U+2212], substituting with a dummy symbol.\n",
      "Font 'default' does not have a glyph for '-' [U+2212], substituting with a dummy symbol.\n",
      "Font 'default' does not have a glyph for '-' [U+2212], substituting with a dummy symbol.\n",
      "Font 'default' does not have a glyph for '-' [U+2212], substituting with a dummy symbol.\n",
      "Font 'default' does not have a glyph for '-' [U+2212], substituting with a dummy symbol.\n",
      "Font 'default' does not have a glyph for '-' [U+2212], substituting with a dummy symbol.\n",
      "Font 'default' does not have a glyph for '-' [U+2212], substituting with a dummy symbol.\n",
      "Font 'default' does not have a glyph for '-' [U+2212], substituting with a dummy symbol.\n",
      "Font 'default' does not have a glyph for '-' [U+2212], substituting with a dummy symbol.\n",
      "Font 'default' does not have a glyph for '-' [U+2212], substituting with a dummy symbol.\n",
      "Font 'default' does not have a glyph for '-' [U+2212], substituting with a dummy symbol.\n",
      "Font 'default' does not have a glyph for '-' [U+2212], substituting with a dummy symbol.\n",
      "Font 'default' does not have a glyph for '-' [U+2212], substituting with a dummy symbol.\n",
      "Font 'default' does not have a glyph for '-' [U+2212], substituting with a dummy symbol.\n",
      "Font 'default' does not have a glyph for '-' [U+2212], substituting with a dummy symbol.\n",
      "Font 'default' does not have a glyph for '-' [U+2212], substituting with a dummy symbol.\n",
      "Font 'default' does not have a glyph for '-' [U+2212], substituting with a dummy symbol.\n",
      "Font 'default' does not have a glyph for '-' [U+2212], substituting with a dummy symbol.\n"
     ]
    },
    {
     "data": {
      "image/png": "[encoded data removed]",
      "text/plain": [
       "<Figure size 432x288 with 1 Axes>"
      ]
     },
     "metadata": {
      "needs_background": "light"
     },
     "output_type": "display_data"
    }
   ],
   "source": [
    "n = 2\n",
    "dic_xa = defaultdict(lambda: 0)\n",
    "for d in xa:\n",
    "    data = d.strip().split(' ')\n",
    "    for i in range(len(data) - n + 1):\n",
    "        index = ' '.join(data[i:i+n])\n",
    "        dic_xa[index] = dic_xa[index] + 1\n",
    "\n",
    "lists = sorted(dic_xa.items(), key=lambda kv: kv[1], reverse=True)\n",
    "px, py = zip(*lists) \n",
    "print('攻擊序列中出現的system call種類 : ',len(lists))\n",
    "x_axis = get_increasing_array(len(lists)+1)\n",
    "plt.title(\"2-gram system call 次數分佈\")\n",
    "plt.plot(x_axis[1:], py)\n",
    "plt.show()\n",
    "#print(px)\n",
    "\n",
    "\n",
    "results = powerlaw.Fit(py)\n",
    "results.power_law.plot_pdf( color= 'b',linestyle='--',label='fit ccdf')\n",
    "results.plot_pdf( color= 'b')\n",
    "print(\"alpha:\", results.power_law.alpha)\n",
    "print(\"Xmin:\", results.power_law.xmin)\n",
    "R, p = results.distribution_compare('power_law', 'lognormal')"
   ]
  },
  {
   "cell_type": "markdown",
   "metadata": {},
   "source": [
    "### n = 2 xt + xv 的情況"
   ]
  },
  {
   "cell_type": "code",
   "execution_count": 14,
   "metadata": {},
   "outputs": [
    {
     "name": "stdout",
     "output_type": "stream",
     "text": [
      "3596\n"
     ]
    },
    {
     "data": {
      "image/png": "[encoded data removed]",
      "text/plain": [
       "<Figure size 432x288 with 1 Axes>"
      ]
     },
     "metadata": {
      "needs_background": "light"
     },
     "output_type": "display_data"
    },
    {
     "name": "stderr",
     "output_type": "stream",
     "text": [
      "Calculating best minimal value for power law fit\n"
     ]
    },
    {
     "name": "stdout",
     "output_type": "stream",
     "text": [
      "alpha: 1.5652423623900238\n",
      "Xmin: 90.0\n"
     ]
    },
    {
     "name": "stderr",
     "output_type": "stream",
     "text": [
      "Font 'default' does not have a glyph for '-' [U+2212], substituting with a dummy symbol.\n",
      "Font 'default' does not have a glyph for '-' [U+2212], substituting with a dummy symbol.\n",
      "Font 'default' does not have a glyph for '-' [U+2212], substituting with a dummy symbol.\n",
      "Font 'default' does not have a glyph for '-' [U+2212], substituting with a dummy symbol.\n",
      "Font 'default' does not have a glyph for '-' [U+2212], substituting with a dummy symbol.\n",
      "Font 'default' does not have a glyph for '-' [U+2212], substituting with a dummy symbol.\n",
      "Font 'default' does not have a glyph for '-' [U+2212], substituting with a dummy symbol.\n",
      "Font 'default' does not have a glyph for '-' [U+2212], substituting with a dummy symbol.\n",
      "Font 'default' does not have a glyph for '-' [U+2212], substituting with a dummy symbol.\n",
      "Font 'default' does not have a glyph for '-' [U+2212], substituting with a dummy symbol.\n",
      "Font 'default' does not have a glyph for '-' [U+2212], substituting with a dummy symbol.\n",
      "Font 'default' does not have a glyph for '-' [U+2212], substituting with a dummy symbol.\n",
      "Font 'default' does not have a glyph for '-' [U+2212], substituting with a dummy symbol.\n",
      "Font 'default' does not have a glyph for '-' [U+2212], substituting with a dummy symbol.\n",
      "Font 'default' does not have a glyph for '-' [U+2212], substituting with a dummy symbol.\n",
      "Font 'default' does not have a glyph for '-' [U+2212], substituting with a dummy symbol.\n",
      "Font 'default' does not have a glyph for '-' [U+2212], substituting with a dummy symbol.\n",
      "Font 'default' does not have a glyph for '-' [U+2212], substituting with a dummy symbol.\n",
      "Font 'default' does not have a glyph for '-' [U+2212], substituting with a dummy symbol.\n",
      "Font 'default' does not have a glyph for '-' [U+2212], substituting with a dummy symbol.\n",
      "Font 'default' does not have a glyph for '-' [U+2212], substituting with a dummy symbol.\n",
      "Font 'default' does not have a glyph for '-' [U+2212], substituting with a dummy symbol.\n",
      "Font 'default' does not have a glyph for '-' [U+2212], substituting with a dummy symbol.\n",
      "Font 'default' does not have a glyph for '-' [U+2212], substituting with a dummy symbol.\n"
     ]
    },
    {
     "data": {
      "image/png": "[encoded data removed]",
      "text/plain": [
       "<Figure size 432x288 with 1 Axes>"
      ]
     },
     "metadata": {
      "needs_background": "light"
     },
     "output_type": "display_data"
    }
   ],
   "source": [
    "n = 2\n",
    "dic_xn = defaultdict(lambda: 0) #normal data的字典\n",
    "for d in xt:\n",
    "    data = d.strip().split(' ')\n",
    "    for i in range(len(data) - n + 1):\n",
    "        index = ' '.join(data[i:i+n])\n",
    "        dic_xn[index] = dic_xn[index] + 1\n",
    "\n",
    "for d in xv:\n",
    "    data = d.strip().split(' ')\n",
    "    for i in range(len(data) - n + 1):\n",
    "        index = ' '.join(data[i:i+n])\n",
    "        dic_xn[index] = dic_xn[index] + 1\n",
    "        \n",
    "lists = sorted(dic_xn.items(), key=lambda kv: kv[1], reverse=True) \n",
    "px, py = zip(*lists)\n",
    "print(len(lists))\n",
    "x_axis = get_increasing_array(len(lists)+1)\n",
    "plt.title(\"one system call\")\n",
    "plt.plot(x_axis[1:], py)\n",
    "plt.show()\n",
    "\n",
    "\n",
    "results = powerlaw.Fit(py)\n",
    "results.power_law.plot_pdf( color= 'b',linestyle='--',label='fit ccdf')\n",
    "results.plot_pdf( color= 'b')\n",
    "print(\"alpha:\", results.power_law.alpha)\n",
    "print(\"Xmin:\", results.power_law.xmin)\n",
    "R, p = results.distribution_compare('power_law', 'lognormal')"
   ]
  },
  {
   "cell_type": "markdown",
   "metadata": {},
   "source": [
    "## train data中system call序列長度分佈"
   ]
  },
  {
   "cell_type": "code",
   "execution_count": 15,
   "metadata": {},
   "outputs": [
    {
     "name": "stdout",
     "output_type": "stream",
     "text": [
      "746\n",
      "[ 300  300  300  301  301  302  302  302  302  302  303  304  304  304\n",
      "  306  306  306  306  306  307  307  308  308  308  308  309  310  310\n",
      "  310  311  311  311  312  312  313  313  313  314  314  315  316  316\n",
      "  317  319  320  320  320  320  320  320  323  323  323  324  325  325\n",
      "  325  326  326  326  327  327  328  328  328  329  329  330  330  331\n",
      "  331  332  333  334  335  335  336  336  336  336  337  337  337  338\n",
      "  338  338  338  339  339  339  340  340  342  343  343  344  344  346\n",
      "  348  348  349  349  350  351  351  351  352  354  354  355  356  356\n",
      "  357  359  360  361  361  362  363  365  366  367  368  368  368  370\n",
      "  375  376  376  378  379  379  380  380  382  384  385  386  386  386\n",
      "  386  386  386  387  388  390  390  390  392  392  393  393  393  395\n",
      "  395  395  396  397  398  398  398  398  400  400  401  404  408  408\n",
      "  408  411  411  412  412  412  413  414  415  415  415  417  418  419\n",
      "  422  425  425  425  428  428  429  429  429  430  431  432  434  435\n",
      "  435  435  440  441  444  445  447  450  451  451  452  453  457  457\n",
      "  457  458  459  460  461  464  467  467  468  469  470  471  473  474\n",
      "  476  476  478  479  479  479  482  483  484  491  492  492  492  494\n",
      "  494  495  499  502  507  509  511  515  515  516  519  519  519  523\n",
      "  524  525  525  526  526  529  530  531  535  537  538  540  542  544\n",
      "  544  546  557  557  558  560  561  562  564  568  571  573  577  577\n",
      "  582  584  585  589  589  592  597  600  602  605  608  609  614  619\n",
      "  623  624  624  624  624  624  625  627  633  648  648  650  652  656\n",
      "  658  673  674  679  688  692  698  700  700  702  704  705  706  711\n",
      "  716  718  726  733  737  740  749  750  764  777  777  783  785  789\n",
      "  790  793  798  801  830  835  838  838  844  868  868  872  874  881\n",
      "  885  892  898  899  899  920  923  923  929  948  948  953  956  970\n",
      "  972  977  995  997 1016 1016 1030 1036 1044 1053 1053 1056 1066 1068\n",
      " 1072 1073 1074 1077 1081 1092 1092 1096 1096 1100 1100 1102 1106 1108\n",
      " 1110 1112 1116 1116 1118 1119 1120 1136 1140 1143 1146 1154 1160 1164\n",
      " 1168 1170 1172 1172 1174 1176 1176 1180 1180 1184 1188 1192 1194 1199\n",
      " 1203 1207 1209 1210 1212 1212 1220 1230 1236 1241 1244 1245 1252 1254\n",
      " 1254 1256 1259 1264 1265 1268 1278 1280 1284 1284 1287 1290 1304 1306\n",
      " 1308 1324 1324 1341 1357 1358 1362 1363 1364 1367 1372 1376 1384 1384\n",
      " 1388 1398 1400 1402 1407 1410 1421 1439 1441 1441 1444 1447 1456 1460\n",
      " 1468 1484 1484 1488 1489 1500 1500 1500 1502 1508 1520 1523 1528 1534\n",
      " 1536 1539 1542 1548 1551 1551 1556 1561 1562 1581 1588 1590 1603 1604\n",
      " 1612 1612 1621 1629 1636 1640 1659 1665 1677 1691 1692 1692 1696 1706\n",
      " 1709 1711 1716 1723 1724 1724 1728 1730 1731 1736 1745 1753 1760 1761\n",
      " 1763 1764 1772 1774 1788 1792 1804 1810 1814 1828 1837 1841 1856 1864\n",
      " 1865 1873 1876 1884 1884 1885 1888 1926 1952 1963 1972 1974 1986 1992\n",
      " 1994 2006 2018 2022 2024 2040 2058 2063 2082 2084 2088 2094 2130 2156\n",
      " 2167 2177 2212 2213 2219 2220 2226 2228 2242 2269 2285 2285 2290 2291\n",
      " 2292 2309 2313 2326 2329 2334 2336 2339 2350 2360 2394 2398 2422 2425\n",
      " 2426 2434 2435 2442 2470 2483 2491 2496 2496 2499 2509 2529 2532 2533\n",
      " 2536 2536 2537 2560 2574 2578 2618 2634 2638 2644 2651 2656 2660 2681\n",
      " 2681 2708 2734 2750 2760 2769 2778 2794 2800 2816 2821 2824 2826 2859\n",
      " 2864 2887 2890 2910 2916 2934 2936 2946 2951 2967 2968 2983 3009 3014\n",
      " 3025 3044 3052 3058 3070 3088 3144 3193 3202 3224 3257 3272 3323 3360\n",
      " 3369 3451 3536 3560 3565 3567 3587 3640 3664 3690 3703 3748 3749 3781\n",
      " 3803 3803 3812 3816 3858 3878 3891 3942 3955 3972 3977 4018 4038 4044\n",
      " 4056 4068 4084 4101 4164 4184 4307 4320 4342 4361 4390 4402 4420 4449\n",
      " 4457 4475 4509 4558 4584 4604 4787 4814 4945 5046 5094 5188 5623 5727\n",
      " 5734 5984 6001 6001 6010 6042 6111 6118 6138 6167 6338 6386 7478 7844\n",
      " 8057 8620 8874 9660]\n"
     ]
    }
   ],
   "source": [
    "train_len = []\n",
    "for i in range(len(xa)):\n",
    "    train_len.append(len(xa[i]))\n",
    "train_len.sort()\n",
    "Y = np.array(train_len)\n",
    "print(len(Y))\n",
    "print(Y)\n"
   ]
  },
  {
   "cell_type": "markdown",
   "metadata": {},
   "source": [
    "## 特定system call 組合在train data中的單序列呼叫次數分佈"
   ]
  },
  {
   "cell_type": "code",
   "execution_count": 16,
   "metadata": {},
   "outputs": [],
   "source": [
    "# attack data\n",
    "target = [168] #特定system call 組合\n",
    "cmd_len = len(target)\n",
    "cmd_index = ' '.join([str(v) for v in target])\n",
    "commend_count = []\n",
    "for d in xa:\n",
    "    count = 0\n",
    "    data = d.strip().split(' ')\n",
    "    for i in range(len(d)):\n",
    "        #print(' '.join(data[i:i+n]))\n",
    "        if cmd_index == ' '.join(data[i:i+cmd_len]):\n",
    "            count = count + 1\n",
    "    commend_count.append(count)\n",
    "\n",
    "\n"
   ]
  },
  {
   "cell_type": "code",
   "execution_count": 17,
   "metadata": {},
   "outputs": [],
   "source": [
    "# val data\n",
    "target = [168] #特定system call 組合\n",
    "cmd_len = len(target)\n",
    "cmd_index = ' '.join([str(v) for v in target])\n",
    "commend_count = []\n",
    "for d in xv:\n",
    "    count = 0\n",
    "    data = d.strip().split(' ')\n",
    "    for i in range(len(d)):\n",
    "        #print(' '.join(data[i:i+n]))\n",
    "        if cmd_index == ' '.join(data[i:i+cmd_len]):\n",
    "            count = count + 1\n",
    "    commend_count.append(count)"
   ]
  },
  {
   "cell_type": "code",
   "execution_count": 18,
   "metadata": {},
   "outputs": [
    {
     "name": "stdout",
     "output_type": "stream",
     "text": [
      "1600\n"
     ]
    },
    {
     "data": {
      "image/png": "[encoded data removed]",
      "text/plain": [
       "<Figure size 432x288 with 1 Axes>"
      ]
     },
     "metadata": {
      "needs_background": "light"
     },
     "output_type": "display_data"
    }
   ],
   "source": [
    "# 畫出分佈圖\n",
    "sta = np.zeros(max(commend_count)+1)\n",
    "print(len(sta))\n",
    "\n",
    "x_axis = get_increasing_array(max(commend_count)+1)\n",
    "\n",
    "for i in commend_count:\n",
    "    sta[i] = sta[i] + 1\n",
    "\n",
    "#print(len(x_axis))\n",
    "#plt.plot(x_axis[1:-2500], sta[1:-2500])\n",
    "plt.plot(x_axis[1:], sta[1:])\n",
    "plt.show()"
   ]
  },
  {
   "cell_type": "code",
   "execution_count": 19,
   "metadata": {},
   "outputs": [
    {
     "name": "stderr",
     "output_type": "stream",
     "text": [
      "Values less than or equal to 0 in data. Throwing out 0 or negative values\n",
      "Calculating best minimal value for power law fit\n",
      "/Users/user/anaconda3/lib/python3.7/site-packages/powerlaw.py:1605: RuntimeWarning: invalid value encountered in true_divide\n",
      "  CDF = CDF/norm\n",
      "'nan' in fit cumulative distribution values.\n",
      "Likely underflow or overflow error: the optimal fit for this distribution gives values that are so extreme that we lack the numerical precision to calculate them.\n"
     ]
    },
    {
     "name": "stdout",
     "output_type": "stream",
     "text": [
      "alpha: 2.314054892272239\n",
      "Xmin: 4.0\n"
     ]
    },
    {
     "name": "stderr",
     "output_type": "stream",
     "text": [
      "Font 'default' does not have a glyph for '-' [U+2212], substituting with a dummy symbol.\n",
      "Font 'default' does not have a glyph for '-' [U+2212], substituting with a dummy symbol.\n",
      "Font 'default' does not have a glyph for '-' [U+2212], substituting with a dummy symbol.\n",
      "Font 'default' does not have a glyph for '-' [U+2212], substituting with a dummy symbol.\n",
      "Font 'default' does not have a glyph for '-' [U+2212], substituting with a dummy symbol.\n",
      "Font 'default' does not have a glyph for '-' [U+2212], substituting with a dummy symbol.\n",
      "Font 'default' does not have a glyph for '-' [U+2212], substituting with a dummy symbol.\n",
      "Font 'default' does not have a glyph for '-' [U+2212], substituting with a dummy symbol.\n",
      "Font 'default' does not have a glyph for '-' [U+2212], substituting with a dummy symbol.\n",
      "Font 'default' does not have a glyph for '-' [U+2212], substituting with a dummy symbol.\n",
      "Font 'default' does not have a glyph for '-' [U+2212], substituting with a dummy symbol.\n",
      "Font 'default' does not have a glyph for '-' [U+2212], substituting with a dummy symbol.\n",
      "Font 'default' does not have a glyph for '-' [U+2212], substituting with a dummy symbol.\n",
      "Font 'default' does not have a glyph for '-' [U+2212], substituting with a dummy symbol.\n",
      "Font 'default' does not have a glyph for '-' [U+2212], substituting with a dummy symbol.\n",
      "Font 'default' does not have a glyph for '-' [U+2212], substituting with a dummy symbol.\n",
      "Font 'default' does not have a glyph for '-' [U+2212], substituting with a dummy symbol.\n",
      "Font 'default' does not have a glyph for '-' [U+2212], substituting with a dummy symbol.\n",
      "Font 'default' does not have a glyph for '-' [U+2212], substituting with a dummy symbol.\n",
      "Font 'default' does not have a glyph for '-' [U+2212], substituting with a dummy symbol.\n",
      "Font 'default' does not have a glyph for '-' [U+2212], substituting with a dummy symbol.\n",
      "Font 'default' does not have a glyph for '-' [U+2212], substituting with a dummy symbol.\n",
      "Font 'default' does not have a glyph for '-' [U+2212], substituting with a dummy symbol.\n",
      "Font 'default' does not have a glyph for '-' [U+2212], substituting with a dummy symbol.\n",
      "Font 'default' does not have a glyph for '-' [U+2212], substituting with a dummy symbol.\n",
      "Font 'default' does not have a glyph for '-' [U+2212], substituting with a dummy symbol.\n",
      "Font 'default' does not have a glyph for '-' [U+2212], substituting with a dummy symbol.\n",
      "Font 'default' does not have a glyph for '-' [U+2212], substituting with a dummy symbol.\n"
     ]
    },
    {
     "data": {
      "image/png": "[encoded data removed]",
      "text/plain": [
       "<Figure size 432x288 with 1 Axes>"
      ]
     },
     "metadata": {
      "needs_background": "light"
     },
     "output_type": "display_data"
    }
   ],
   "source": [
    "results = powerlaw.Fit(sta)\n",
    "results.power_law.plot_pdf( color= 'b',linestyle='--',label='fit ccdf')\n",
    "results.plot_pdf( color= 'b')\n",
    "print(\"alpha:\", results.power_law.alpha)\n",
    "print(\"Xmin:\", results.power_law.xmin)\n",
    "R, p = results.distribution_compare('power_law', 'lognormal')"
   ]
  },
  {
   "cell_type": "code",
   "execution_count": 20,
   "metadata": {},
   "outputs": [
    {
     "name": "stdout",
     "output_type": "stream",
     "text": [
      "total:  252\n",
      "Machine_dependent:  0\n",
      "Filesystem:  1\n",
      "Linux_Kernel:  2\n",
      "Scheduling:  3\n",
      "Signals:  4\n",
      "Systems:  5\n",
      "Time:  6\n",
      "Kernel_Process:  7\n",
      "UID:  8\n",
      "Memory_Management:  9\n",
      "Swapfile:  10\n",
      "Socket:  11\n"
     ]
    }
   ],
   "source": [
    "Machine_dependent = [101,110,123,2,11,120,190,243,244,26,67,72,119,173,179,186,42,59,82,90,109,117,192,113,166]\n",
    "#print(len(Machine_dependent))\n",
    "Filesystem = [245,246,247,248,249,36,118,134,148,183,253,254,255,256,86,41,55,63,221,135,54,143,9,10,14,38,39,40,\\\n",
    "              83,21,22,52,217,169,5,6,8,12,15,30,33,61,92,93,94,99,100,111,133,193,194,198,207,212,268,269,131,89,\\\n",
    "              141,220,3,4,19,140,145,146,180,181,187,239,142,168,18,28,84,85,106,107,108,195,196,197,62,226,227,228,\\\n",
    "              229,230,231,232,233,234,235,236,237]\n",
    "#print(len(Filesystem))\n",
    "Linux_Kernel = [51,184,185,136,1,7,114,252,258,240,104,105,128,129,162,259,260,261,262,263,264,265,266,267,103]\n",
    "#print(len(Linux_Kernel))\n",
    "Scheduling = [34,154,155,156,157,158,159,160,161,241,242]\n",
    "#print(len(Scheduling))\n",
    "Signals = [0,29,37,48,68,69,73,126,174,175,176,177,178,238,270]\n",
    "#print(len(Signals))\n",
    "Systems = [43,57,60,65,66,74,75,76,77,88,96,97,121,122,132,147,172,191,203,204,205,206,208,209,210,211,213,214,215,\\\n",
    "           216,149]\n",
    "#print(len(Systems))\n",
    "Time = [13,25,78,79,124]\n",
    "#print(len(Time))\n",
    "Kernel_Process = [20,27,64,116,199,200,201,202,224]\n",
    "#print(len(Kernel_Process))\n",
    "UID = [16,23,24,46,47,49,50,70,71,80,81,95,138,139,164,165,170,171,182]\n",
    "#print(len(UID))\n",
    "Memory_Management = [250,225,257,219,218,150,151,152,153,45,91,125,163,144]\n",
    "#print(len(Memory_Management))\n",
    "Swapfile = [87,115]\n",
    "#print(len(Swapfile))\n",
    "Socket = [102]\n",
    "#print(len(Socket))\n",
    "\n",
    "print('total: ',len(Machine_dependent) + len(Filesystem) + len(Linux_Kernel) \\\n",
    "      + len(Scheduling) + len(Signals) + len(Systems) + len(Time) + len(Kernel_Process) \\\n",
    "      + len(UID) + len(Memory_Management) + len(Swapfile) + len(Socket))\n",
    "\n",
    "system_dic = {}\n",
    "system_dic['Machine_dependent'] = 0\n",
    "system_dic['Filesystem'] = 1\n",
    "system_dic['Linux_Kernel'] = 2\n",
    "system_dic['Scheduling'] = 3\n",
    "system_dic['Signals'] = 4\n",
    "system_dic['Systems'] = 5\n",
    "system_dic['Time'] = 6\n",
    "system_dic['Kernel_Process'] = 7\n",
    "system_dic['UID'] = 8\n",
    "system_dic['Memory_Management'] = 9\n",
    "system_dic['Swapfile'] = 10\n",
    "system_dic['Socket'] = 11\n",
    "\n",
    "print('Machine_dependent: ', 0)\n",
    "print('Filesystem: ', 1)\n",
    "print('Linux_Kernel: ', 2)\n",
    "print('Scheduling: ', 3)\n",
    "print('Signals: ', 4)\n",
    "print('Systems: ', 5)\n",
    "print('Time: ', 6)\n",
    "print('Kernel_Process: ', 7)\n",
    "print('UID: ', 8)\n",
    "print('Memory_Management: ', 9)\n",
    "print('Swapfile: ', 10)\n",
    "print('Socket: ', 11)\n"
   ]
  },
  {
   "cell_type": "code",
   "execution_count": 21,
   "metadata": {},
   "outputs": [],
   "source": [
    "def systemcall_classify(query):\n",
    "    class_outcome = np.zeros((1,12))\n",
    "    query = query.strip().split(' ')\n",
    "    for i in query:\n",
    "        if int(i) in Machine_dependent:\n",
    "            class_outcome[0][0] += 1\n",
    "        elif int(i) in Filesystem:\n",
    "            class_outcome[0][1] += 1\n",
    "        elif int(i) in Linux_Kernel:\n",
    "            class_outcome[0][2] += 1\n",
    "        elif int(i) in Scheduling:\n",
    "            class_outcome[0][3] += 1\n",
    "        elif int(i) in Signals:\n",
    "            class_outcome[0][4] += 1\n",
    "        elif int(i) in Systems:\n",
    "            class_outcome[0][5] += 1\n",
    "        elif int(i) in Time:\n",
    "            class_outcome[0][6] += 1\n",
    "        elif int(i) in Kernel_Process:\n",
    "            class_outcome[0][7] += 1\n",
    "        elif int(i) in UID:\n",
    "            class_outcome[0][8] += 1\n",
    "        elif int(i) in Memory_Management:\n",
    "            class_outcome[0][9] += 1\n",
    "        elif int(i) in Swapfile:\n",
    "            class_outcome[0][10] += 1\n",
    "        elif int(i) in Socket:\n",
    "            class_outcome[0][11] += 1\n",
    "    return class_outcome\n"
   ]
  },
  {
   "cell_type": "code",
   "execution_count": 22,
   "metadata": {},
   "outputs": [
    {
     "name": "stdout",
     "output_type": "stream",
     "text": [
      "train data下各類別system call總呼叫次數\n",
      "[ 17802. 212261.  25685.    408.  11893.    891.  10902.   1303.      0.\n",
      "  16681.      0.   8646.]\n",
      "train data下各類別system call單序列平均呼叫次數\n",
      "[ 21.37094838 254.81512605  30.83433373   0.48979592  14.27731092\n",
      "   1.06962785  13.08763505   1.56422569   0.          20.02521008\n",
      "   0.          10.37935174]\n",
      "normal data下各類別system call總呼叫次數\n",
      "[ 177264. 1623308.  216464.   10860.   80682.   13966.   72059.   11657.\n",
      "       0.  121218.       0.   85812.]\n",
      "normal data下各類別system call單序列平均呼叫次數\n",
      "[ 34.05648415 311.87473583  41.58770413   2.08645533  15.50086455\n",
      "   2.68318924  13.84418828   2.23957733   0.          23.28876081\n",
      "   0.          16.48645533]\n",
      "attack data下各類別system call總呼叫次數\n",
      "[  4392. 172235.  84697.    130.   4650.   6412.  27876.   1102.      0.\n",
      "   4695.      0.   7781.]\n",
      "attack data下各類別system call單序列平均呼叫次數\n",
      "[  5.88739946 230.87801609 113.53485255   0.17426273   6.23324397\n",
      "   8.59517426  37.36729223   1.4772118    0.           6.29356568\n",
      "   0.          10.43029491]\n"
     ]
    }
   ],
   "source": [
    "xt_call_distribution = np.zeros((1,12))\n",
    "xa_call_distribution = np.zeros((1,12))\n",
    "\n",
    "for d in xt:\n",
    "    xt_call_distribution = np.concatenate((xt_call_distribution, systemcall_classify(d)), axis = 0)\n",
    "\n",
    "print('train data下各類別system call總呼叫次數')\n",
    "print(sum(xt_call_distribution[1:]))\n",
    "print('train data下各類別system call單序列平均呼叫次數')\n",
    "print(sum(xt_call_distribution[1:]) / len(xt) )    \n",
    "\n",
    "for d in xv:\n",
    "    xt_call_distribution = np.concatenate((xt_call_distribution, systemcall_classify(d)), axis = 0)\n",
    "\n",
    "print('normal data下各類別system call總呼叫次數')\n",
    "print(sum(xt_call_distribution[1:]))\n",
    "print('normal data下各類別system call單序列平均呼叫次數')\n",
    "print(sum(xt_call_distribution[1:]) / (len(xt) + len(xv)) )\n",
    "\n",
    "for d in xa:\n",
    "    xa_call_distribution = np.concatenate((xa_call_distribution, systemcall_classify(d)), axis = 0)\n",
    "    \n",
    "print('attack data下各類別system call總呼叫次數')\n",
    "print(sum(xa_call_distribution[1:]))\n",
    "print('attack data下各類別system call單序列平均呼叫次數')\n",
    "print(sum(xa_call_distribution[1:]) / len(xa))"
   ]
  },
  {
   "cell_type": "code",
   "execution_count": 43,
   "metadata": {},
   "outputs": [
    {
     "data": {
      "image/png": "[encoded data removed]",
      "text/plain": [
       "<Figure size 432x288 with 1 Axes>"
      ]
     },
     "metadata": {
      "needs_background": "light"
     },
     "output_type": "display_data"
    },
    {
     "data": {
      "image/png": "[encoded data removed]",
      "text/plain": [
       "<Figure size 432x288 with 1 Axes>"
      ]
     },
     "metadata": {
      "needs_background": "light"
     },
     "output_type": "display_data"
    },
    {
     "name": "stderr",
     "output_type": "stream",
     "text": [
      "Values less than or equal to 0 in data. Throwing out 0 or negative values\n",
      "Calculating best minimal value for power law fit\n",
      "Font 'default' does not have a glyph for '-' [U+2212], substituting with a dummy symbol.\n",
      "Font 'default' does not have a glyph for '-' [U+2212], substituting with a dummy symbol.\n",
      "Font 'default' does not have a glyph for '-' [U+2212], substituting with a dummy symbol.\n",
      "Font 'default' does not have a glyph for '-' [U+2212], substituting with a dummy symbol.\n",
      "Font 'default' does not have a glyph for '-' [U+2212], substituting with a dummy symbol.\n",
      "Font 'default' does not have a glyph for '-' [U+2212], substituting with a dummy symbol.\n",
      "Font 'default' does not have a glyph for '-' [U+2212], substituting with a dummy symbol.\n",
      "Font 'default' does not have a glyph for '-' [U+2212], substituting with a dummy symbol.\n"
     ]
    },
    {
     "name": "stdout",
     "output_type": "stream",
     "text": [
      "alpha: 2.6553975782619217\n",
      "Xmin: 0.21023765996343693\n"
     ]
    },
    {
     "name": "stderr",
     "output_type": "stream",
     "text": [
      "Font 'default' does not have a glyph for '-' [U+2212], substituting with a dummy symbol.\n",
      "Font 'default' does not have a glyph for '-' [U+2212], substituting with a dummy symbol.\n",
      "Font 'default' does not have a glyph for '-' [U+2212], substituting with a dummy symbol.\n",
      "Font 'default' does not have a glyph for '-' [U+2212], substituting with a dummy symbol.\n",
      "Font 'default' does not have a glyph for '-' [U+2212], substituting with a dummy symbol.\n",
      "Font 'default' does not have a glyph for '-' [U+2212], substituting with a dummy symbol.\n",
      "Font 'default' does not have a glyph for '-' [U+2212], substituting with a dummy symbol.\n",
      "Font 'default' does not have a glyph for '-' [U+2212], substituting with a dummy symbol.\n"
     ]
    },
    {
     "data": {
      "image/png": "[encoded data removed]",
      "text/plain": [
       "<Figure size 432x288 with 1 Axes>"
      ]
     },
     "metadata": {
      "needs_background": "light"
     },
     "output_type": "display_data"
    }
   ],
   "source": [
    "multiple = 1\n",
    "ratio1 = []\n",
    "ratio2 = []\n",
    "\n",
    "for query in xt_call_distribution[1:]:\n",
    "    #if query[2] != 0 :\n",
    "    \n",
    "    #method 1\n",
    "    if((query[2])/sum(query) != 1):\n",
    "        pr = ((query[2])/sum(query)) * multiple\n",
    "        ratio1.append(pr)\n",
    "    \n",
    "    #method 2\n",
    "    if query[2]!=0 :\n",
    "        ratio2.append(query[1] / query[2])\n",
    "    \n",
    "ratio1 = np.sort(ratio1)[::-1]\n",
    "ratio2 = np.sort(ratio2)[::-1]\n",
    "\n",
    "#print(len(ratio))\n",
    "#print(ratio[:10])\n",
    "\n",
    "x_axis = get_increasing_array(len(ratio1)+1)\n",
    "plt.plot(x_axis[1:], ratio1)\n",
    "plt.show()\n",
    "\n",
    "x_axis = get_increasing_array(len(ratio2)+1)\n",
    "plt.plot(x_axis[1:], ratio2)\n",
    "plt.show()\n",
    "\n",
    "results = powerlaw.Fit(ratio1)\n",
    "results.power_law.plot_pdf( color= 'b',linestyle='--',label='fit ccdf')\n",
    "results.plot_pdf( color= 'b')\n",
    "print(\"alpha:\", results.power_law.alpha)\n",
    "print(\"Xmin:\", results.power_law.xmin)\n",
    "#R, p = results.distribution_compare('power_law', 'lognormal')\n",
    "#print(np.sort(ratio12,reverse))"
   ]
  },
  {
   "cell_type": "code",
   "execution_count": 94,
   "metadata": {},
   "outputs": [
    {
     "name": "stdout",
     "output_type": "stream",
     "text": [
      "0.9992937853107344\n",
      "367.7755895034521\n",
      "0.07124672404173811\n",
      "5162\n",
      "280322.34478820686\n",
      "67.40138129074461\n"
     ]
    }
   ],
   "source": [
    "print(ratio1[1])\n",
    "print(sum(ratio1[:]))\n",
    "print(sum(ratio1[:]) / len(ratio1))\n",
    "print(len(ratio1))\n",
    "test1 = np.zeros(1001)\n",
    "test0 = np.zeros(1001)\n",
    "for i in range(len(ratio1)):\n",
    "    if ratio1[i] * 1000 > 1 : \n",
    "        test0[int(np.around(ratio1[i] * 1000))] += 1\n",
    "        test1[int(np.around(abs(ratio1[i] * 1000 - 9)))] += 1\n",
    "print(sum(ratio2[:]))\n",
    "print(sum(ratio2[:]) / len(ratio2))"
   ]
  },
  {
   "cell_type": "code",
   "execution_count": 95,
   "metadata": {},
   "outputs": [
    {
     "name": "stdout",
     "output_type": "stream",
     "text": [
      "[999.29378531 999.29078014 999.29078014 998.59353024 998.59353024\n",
      " 998.48599546 998.48599546 998.29931973 998.29931973 998.0620155\n",
      " 998.0620155  997.33865602 997.33865602 997.21448468 997.21448468\n",
      " 996.91167387 996.91167387 996.63016007 996.63016007 996.16858238\n",
      " 995.93495935 995.93495935 995.8677686  995.8677686  993.50649351\n",
      " 992.70072993 992.70072993 988.0952381  988.0952381  987.80487805\n",
      " 987.80487805 986.56898657 938.7755102  913.04347826 911.24260355\n",
      " 911.24260355 910.11235955 892.73356401 880.73394495 861.67146974\n",
      " 842.80532044 835.98484848 829.26829268 816.51376147 811.48748159\n",
      " 804.34782609 797.8021978  790.09126467 789.69359331 788.9182058\n",
      " 782.23495702 781.07734807 776.78571429 766.30434783 766.09616952\n",
      " 765.95744681 761.4213198  750.         750.         748.25174825\n",
      " 748.24419233 744.6013289  732.91925466 732.79352227 725.80645161\n",
      " 715.44715447 715.02590674 712.17712177 706.42201835 701.92307692\n",
      " 701.92307692 700.72992701 698.71794872 697.6744186  697.6744186\n",
      " 697.27891156 696.62921348 694.11764706 686.86868687 680.98591549\n",
      " 679.24528302 678.57142857 677.65567766 677.59562842 677.11598746\n",
      " 675.15923567 673.55371901 672.26890756 669.29133858 667.6056338\n",
      " 667.4584323  666.66666667 666.66666667 666.66666667 664.67065868\n",
      " 659.79381443 659.79381443 657.20081136 655.60165975]\n",
      "[   0.   23.  106.   92.   66.   77.   47.   87.   69. 1123.   39.   51.\n",
      "   84.   21.   18.   21.   42.   32.   25.   22.   47.   30.   23.   32.\n",
      "   25.   26.   33.   25.   74.   27.   17.   11.   26.   39.   20.   11.\n",
      "    8.    6.    9.   19.   29.   23.   12.    8.   10.   20.   15.    6.\n",
      "   23.   12.   11.   11.    2.   16.   11.   47.    7.    9.   10.    8.\n",
      "    6.   13.   14.    7.   11.    4.   11.   16.   13.    9.    4.   15.\n",
      "    7.    8.    4.   10.    8.    5.    5.   15.   12.    0.    8.    6.\n",
      "   12.    3.    9.   14.    6.    2.    4.    2.    3.    3.    5.    8.\n",
      "    5.    7.    8.    7.]\n",
      "[1123.  108.  138.  130.   99.   84.  113.  148.   55.   25.   22.   47.\n",
      "   30.   23.   32.   25.   26.   33.   25.   74.   27.   17.   11.   26.\n",
      "   39.   20.   11.    8.    6.    9.   19.   29.   23.   12.    8.   10.\n",
      "   20.   15.    6.   23.   12.   11.   11.    2.   16.   11.   47.    7.\n",
      "    9.   10.    8.    6.   13.   14.    7.   11.    4.   11.   16.   13.\n",
      "    9.    4.   15.    7.    8.    4.   10.    8.    5.    5.   15.   12.\n",
      "    0.    8.    6.   12.    3.    9.   14.    6.    2.    4.    2.    2.\n",
      "    4.    5.    8.    5.    7.    8.    7.    2.    3.   13.    4.    3.\n",
      "    6.    4.    1.    7.]\n"
     ]
    }
   ],
   "source": [
    "print(ratio1[1:100]*1000)\n",
    "print(test0[:100])\n",
    "print(test1[:100])"
   ]
  },
  {
   "cell_type": "code",
   "execution_count": 100,
   "metadata": {},
   "outputs": [
    {
     "name": "stdout",
     "output_type": "stream",
     "text": [
      "[   0.   23.  106.   92.   66.   77.   47.   87.   69. 1123.]\n",
      "[ 23. 106.  92.  66.]\n"
     ]
    },
    {
     "data": {
      "image/png": "[encoded data removed]",
      "text/plain": [
       "<Figure size 432x288 with 1 Axes>"
      ]
     },
     "metadata": {
      "needs_background": "light"
     },
     "output_type": "display_data"
    }
   ],
   "source": [
    "x_axis = get_increasing_array(len(test0))\n",
    "print(test0[:10])\n",
    "print(test0[1:5])\n",
    "plt.plot(x_axis[1:], test0[1:])\n",
    "plt.show()"
   ]
  },
  {
   "cell_type": "code",
   "execution_count": 98,
   "metadata": {},
   "outputs": [
    {
     "name": "stdout",
     "output_type": "stream",
     "text": [
      "[1123.  108.  138.  130.   99.   84.  113.  148.   55.   25.]\n",
      "[108. 138. 130.  99.]\n"
     ]
    },
    {
     "data": {
      "image/png": "[encoded data removed]",
      "text/plain": [
       "<Figure size 432x288 with 1 Axes>"
      ]
     },
     "metadata": {
      "needs_background": "light"
     },
     "output_type": "display_data"
    },
    {
     "name": "stderr",
     "output_type": "stream",
     "text": [
      "Values less than or equal to 0 in data. Throwing out 0 or negative values\n",
      "Calculating best minimal value for power law fit\n"
     ]
    },
    {
     "name": "stdout",
     "output_type": "stream",
     "text": [
      "alpha: 2.263875571293684\n",
      "Xmin: 4.0\n"
     ]
    },
    {
     "name": "stderr",
     "output_type": "stream",
     "text": [
      "Font 'default' does not have a glyph for '-' [U+2212], substituting with a dummy symbol.\n",
      "Font 'default' does not have a glyph for '-' [U+2212], substituting with a dummy symbol.\n",
      "Font 'default' does not have a glyph for '-' [U+2212], substituting with a dummy symbol.\n",
      "Font 'default' does not have a glyph for '-' [U+2212], substituting with a dummy symbol.\n",
      "Font 'default' does not have a glyph for '-' [U+2212], substituting with a dummy symbol.\n",
      "Font 'default' does not have a glyph for '-' [U+2212], substituting with a dummy symbol.\n",
      "Font 'default' does not have a glyph for '-' [U+2212], substituting with a dummy symbol.\n",
      "Font 'default' does not have a glyph for '-' [U+2212], substituting with a dummy symbol.\n",
      "Font 'default' does not have a glyph for '-' [U+2212], substituting with a dummy symbol.\n",
      "Font 'default' does not have a glyph for '-' [U+2212], substituting with a dummy symbol.\n",
      "Font 'default' does not have a glyph for '-' [U+2212], substituting with a dummy symbol.\n",
      "Font 'default' does not have a glyph for '-' [U+2212], substituting with a dummy symbol.\n",
      "Font 'default' does not have a glyph for '-' [U+2212], substituting with a dummy symbol.\n",
      "Font 'default' does not have a glyph for '-' [U+2212], substituting with a dummy symbol.\n",
      "Font 'default' does not have a glyph for '-' [U+2212], substituting with a dummy symbol.\n",
      "Font 'default' does not have a glyph for '-' [U+2212], substituting with a dummy symbol.\n",
      "Font 'default' does not have a glyph for '-' [U+2212], substituting with a dummy symbol.\n",
      "Font 'default' does not have a glyph for '-' [U+2212], substituting with a dummy symbol.\n",
      "Font 'default' does not have a glyph for '-' [U+2212], substituting with a dummy symbol.\n",
      "Font 'default' does not have a glyph for '-' [U+2212], substituting with a dummy symbol.\n",
      "Font 'default' does not have a glyph for '-' [U+2212], substituting with a dummy symbol.\n",
      "Font 'default' does not have a glyph for '-' [U+2212], substituting with a dummy symbol.\n",
      "Font 'default' does not have a glyph for '-' [U+2212], substituting with a dummy symbol.\n",
      "Font 'default' does not have a glyph for '-' [U+2212], substituting with a dummy symbol.\n"
     ]
    },
    {
     "data": {
      "image/png": "[encoded data removed]",
      "text/plain": [
       "<Figure size 432x288 with 1 Axes>"
      ]
     },
     "metadata": {
      "needs_background": "light"
     },
     "output_type": "display_data"
    }
   ],
   "source": [
    "x_axis = get_increasing_array(len(test1))\n",
    "print(test1[:10])\n",
    "print(test1[1:5])\n",
    "plt.plot(x_axis[:], test1[:])\n",
    "plt.show()\n",
    "results = powerlaw.Fit(test1[:])\n",
    "results.power_law.plot_pdf( color= 'b',linestyle='--',label='fit ccdf')\n",
    "results.plot_pdf( color= 'b')\n",
    "print(\"alpha:\", results.power_law.alpha)\n",
    "print(\"Xmin:\", results.power_law.xmin)"
   ]
  },
  {
   "cell_type": "code",
   "execution_count": 220,
   "metadata": {},
   "outputs": [
    {
     "name": "stdout",
     "output_type": "stream",
     "text": [
      "[1 2 1]\n"
     ]
    }
   ],
   "source": [
    "te = np.array([1,2,-1])\n",
    "print(np.where(te==-1, 1, te) )"
   ]
  },
  {
   "cell_type": "code",
   "execution_count": null,
   "metadata": {},
   "outputs": [],
   "source": []
  }
 ],
 "metadata": {
  "kernelspec": {
   "display_name": "Python 3",
   "language": "python",
   "name": "python3"
  },
  "language_info": {
   "codemirror_mode": {
    "name": "ipython",
    "version": 3
   },
   "file_extension": ".py",
   "mimetype": "text/x-python",
   "name": "python",
   "nbconvert_exporter": "python",
   "pygments_lexer": "ipython3",
   "version": "3.7.3"
  }
 },
 "nbformat": 4,
 "nbformat_minor": 2
}
